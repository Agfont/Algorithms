{
 "cells": [
  {
   "cell_type": "markdown",
   "metadata": {},
   "source": [
    "# Simulacre d'examen. Octubre 2018"
   ]
  },
  {
   "cell_type": "code",
   "execution_count": 4,
   "metadata": {},
   "outputs": [],
   "source": [
    "def sonIsomorfes(cadX,cadY):\n",
    "    correspXtoY = {}\n",
    "    correspYtoX = {}\n",
    "    if len(cadX) != len(cadY):\n",
    "        return False\n",
    "    for x,y in zip(cadX,cadY):\n",
    "        if x not in correspXtoY and y not in correspYtoX:\n",
    "            correspXtoY[x] = y\n",
    "            correspYtoX[y] = x\n",
    "        elif x not in correspXtoY or correspXtoY[x] != y:\n",
    "            return False\n",
    "    return True"
   ]
  },
  {
   "cell_type": "code",
   "execution_count": 5,
   "metadata": {},
   "outputs": [
    {
     "data": {
      "text/plain": [
       "True"
      ]
     },
     "execution_count": 5,
     "metadata": {},
     "output_type": "execute_result"
    }
   ],
   "source": [
    "sonIsomorfes(\"abc\",\"def\")"
   ]
  },
  {
   "cell_type": "markdown",
   "metadata": {},
   "source": [
    "Donat un string, fes un programa que retorni:\n",
    "+ El nombre de paraules de l'string.\n",
    "+ El nombre de paraules que només surten una vegada a l'string.\n",
    "+ El nombre de paraules diferents que hi ha a l'string. "
   ]
  },
  {
   "cell_type": "code",
   "execution_count": 18,
   "metadata": {},
   "outputs": [
    {
     "name": "stdout",
     "output_type": "stream",
     "text": [
      "Nombre de paraules d l'string: 8\n",
      "Nombre de paraules que només surten una vegada:  4\n",
      "Nombre de paraules diferents:  6\n"
     ]
    }
   ],
   "source": [
    "def compta(s):\n",
    "    list_paraules = s.split(\" \")\n",
    "    nombre_paraules = len(list_paraules)\n",
    "    print(\"Nombre de paraules d l'string:\",nombre_paraules)\n",
    "    \n",
    "    nombre_1Vegada = 0\n",
    "    list_paraules_diferents = []\n",
    "    for i in list_paraules:\n",
    "        if list_paraules.count(i) == 1:\n",
    "            nombre_1Vegada += 1\n",
    "        if i not in list_paraules_diferents:\n",
    "            list_paraules_diferents.append(i)\n",
    "            \n",
    "    print(\"Nombre de paraules que només surten una vegada: \", nombre_1Vegada)\n",
    "    print(\"Nombre de paraules diferents: \", len(list_paraules_diferents))\n",
    "\n",
    "\n",
    "s = 'les cases del poble són cases deshabitades deshabitades'\n",
    "compta(s)"
   ]
  },
  {
   "cell_type": "code",
   "execution_count": 19,
   "metadata": {},
   "outputs": [
    {
     "data": {
      "text/plain": [
       "(8, 4, 6)"
      ]
     },
     "execution_count": 19,
     "metadata": {},
     "output_type": "execute_result"
    }
   ],
   "source": [
    "def compta1(s):\n",
    "    numParaules = len(s.split())\n",
    "    dic = {}\n",
    "    unaVegada = 0\n",
    "    diferents = 0\n",
    "    for w in s.split():\n",
    "        if w in dic:\n",
    "            dic[w] += 1\n",
    "        else:\n",
    "            dic[w] = 1\n",
    "    for item in dic.items():\n",
    "        if item[1] == 1:\n",
    "            unaVegada +=1\n",
    "            diferents +=1\n",
    "        else:\n",
    "            diferents +=1\n",
    "    return numParaules, unaVegada, diferents\n",
    "\n",
    "s = 'les cases del poble són cases deshabitades deshabitades'\n",
    "compta1(s)"
   ]
  },
  {
   "cell_type": "code",
   "execution_count": null,
   "metadata": {},
   "outputs": [],
   "source": []
  }
 ],
 "metadata": {
  "kernelspec": {
   "display_name": "Python 3",
   "language": "python",
   "name": "python3"
  },
  "language_info": {
   "codemirror_mode": {
    "name": "ipython",
    "version": 3
   },
   "file_extension": ".py",
   "mimetype": "text/x-python",
   "name": "python",
   "nbconvert_exporter": "python",
   "pygments_lexer": "ipython3",
   "version": "3.6.5"
  }
 },
 "nbformat": 4,
 "nbformat_minor": 2
}
