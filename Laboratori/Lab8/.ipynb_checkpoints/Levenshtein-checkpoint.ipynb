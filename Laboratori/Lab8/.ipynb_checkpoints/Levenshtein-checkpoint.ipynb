{
 "cells": [
  {
   "cell_type": "markdown",
   "metadata": {},
   "source": [
    "<p style=\"text-align:right;font-size:0.9em\">\n",
    "Grau d'Enginyeria Informàtica. Algorísmica\n",
    "</p>"
   ]
  },
  {
   "cell_type": "markdown",
   "metadata": {},
   "source": [
    "<h1 style=\"padding:0.5em 0;font:Garamond;font-size:1-5em;color:#F90;background-color:#005\">\n",
    "Problema: Levenshtein\n",
    "</h1>"
   ]
  },
  {
   "cell_type": "markdown",
   "metadata": {},
   "source": [
    "## Introducció\n",
    "\n",
    "Una seqüència genètica és un string format per caràcters d’un alfabet de quatre lletres: ``A, T, G`` i ``C``, que corresponen a les macromolècules base de l’ADN. Un gen és una seqüència genètica que conté la informació necessària per construir una proteïna. La unió de tots els gens constitueixen el genoma. \n",
    "\n",
    "Cada cèl•lula produïda pel cos rep una còpia del genoma, però a vegades, aquesta còpia és lleugerament “defectuosa”. Els “defectes” van des de la substitució d’una base per una altra fins a la pèrdua d’un substring de la seqüència. \n",
    "\n",
    "+ Baixa't el fitxer HUMAN-DNA.txt al teu directori. \n",
    "\n",
    "Aquest fitxer conté una part del ADN del cromosoma 2 humà.\n",
    "\n",
    "## Pregunta 1\n",
    "\n",
    "+ Fes una funció, anomenada ``dna``, basada en l’algorisme de Levenshtein, que busqui dins de **cada una de les línies del fitxer anterior** les següents seqüències genètiques i digui a quina línia les ha trobat amb mínima distància i quina és aquesta distància (si està a varies línies, que indiqui la primera línia en la que apareix a distància mínima):\n",
    "\n",
    "        AGATACATTAGAACAATAGAGATGTGGTC\n",
    "        GTCAGTCTGGCACTTGCCATTGGTGCCACCA\n",
    "        TACCGAGAAGCATGGATTACAGCATGTACCATCAT\n",
    "        \n",
    "Al fer-ho, has de tenir en compte que a les aplicacions bioinformàtiques, els costos de les operacions d’edició són lleugerament diferents de les que hem vist fins ara:\n",
    "\n",
    "+ Per un salt/inserció (al patró o al text): 2; \n",
    "+ Per una substitució: 1; \n",
    "+ Quan hi ha correspondència: 0.\n",
    "\n",
    "Adapta la funció ``dna`` a aquests costos. La funció no ha de tenir cap tipus d’entrada de part de l’usuari, i la sortida ha d'indicar la línia i distància mínimes per cada patró, i el temps de càlcul en milisegons."
   ]
  },
  {
   "cell_type": "code",
   "execution_count": null,
   "metadata": {},
   "outputs": [],
   "source": [
    "# Substitueix la comanda pass pel teu codi\n",
    "# Substitueix el resultat per les teves variables, \n",
    "#             pero mantingues el format indicat\n",
    "\n",
    "def dna():\n",
    "    \"\"\"\n",
    "    Aquest programa cerca unes determinades seqüències al fitxer HUMAN-DNA.txt\n",
    "    :return una llista, de tres llistes, un per cada seqüència a cercar. A cadascuna\n",
    "            de les subllistes hi ha tres elements. El primer element és la seqüència, \n",
    "            el segon la línia en la que aquesta seqüència apareix en el fitxer \n",
    "            a distància mínima, i el tercer aquesta distància mínima.\n",
    "    \"\"\"\n",
    "    \n",
    "    return ([['AGATACATTAGAACAATAGAGATGTGGTC',linia,distancia],\n",
    "            ['GTCAGTCTGGCACTTGCCATTGGTGCCACCA',linia,distancia],\n",
    "            ['TACCGAGAAGCATGGATTACAGCATGTACCATCAT',linia,distancia]],\n",
    "            temps)"
   ]
  },
  {
   "cell_type": "code",
   "execution_count": null,
   "metadata": {},
   "outputs": [],
   "source": [
    "# La solució correcta és aquesta, tot i que el temps pot variar\n",
    "[['AGATACATTAGACAATAGAGATGTGGTC', 32, 11],\n",
    " ['GTCAGTCTGGCCTTGCCATTGGTGCCACCA', 352, 11],\n",
    " ['TACCGAGAAGCTGGATTACAGCATGTACCATCAT', 233, 13],\n",
    " 2.7117291091393665]"
   ]
  },
  {
   "cell_type": "code",
   "execution_count": 5,
   "metadata": {},
   "outputs": [],
   "source": [
    "import time\n",
    "def dna (lista, fitxer):\n",
    "    t1 = time.clock()\n",
    "    file = open(fitxer, \"r\")\n",
    "    text = file.read()\n",
    "    file.close()\n",
    "    l = []\n",
    "    for secuencia in lista:\n",
    "        lev = (levenshtein_distanceMín(secuencia + \" \", text))\n",
    "        linea = LineaText(fitxer,lev[1],lev[2])\n",
    "        l.append([secuencia,linea,lev[0]])\n",
    "    t2 = time.clock()\n",
    "    l.append(t2-t1)\n",
    "    return(l)"
   ]
  },
  {
   "cell_type": "code",
   "execution_count": 6,
   "metadata": {},
   "outputs": [],
   "source": [
    "def levenshtein_distanceMín(first, second):\n",
    "    if len(first) > len(second): \n",
    "        first, second = second, first\n",
    "    if len(second) == 0: \n",
    "        return len(first)\n",
    "    first_length = len(first) + 1\n",
    "    second_length = len(second) + 1\n",
    "    distance_matrix = [[0] * second_length for x in range(first_length)]\n",
    "    for i in range(first_length): \n",
    "        distance_matrix[i][0] = i\n",
    "    for j in range(second_length): \n",
    "        distance_matrix[0][j] = 0 # poner ceros a la primera fila\n",
    "    for i in range(1, first_length):\n",
    "        for j in range(1, second_length):\n",
    "            deletion = distance_matrix[i-1][j] + 2\n",
    "            insertion = distance_matrix[i][j-1] + 2\n",
    "            substitution = distance_matrix[i-1][j-1]\n",
    "            if first[i-1] != second[j-1]: \n",
    "                substitution += 1\n",
    "            distance_matrix[i][j] = min(insertion,deletion,substitution)\n",
    "            \n",
    "    # Encontrar minimo        \n",
    "    \n",
    "    minimo = min(distance_matrix[i-1])\n",
    "    \n",
    "    indexC = distance_matrix[i-1].index(minimo)\n",
    "    substring = second[indexC-len(first)+1:indexC]\n",
    "    substring2 = \"\"\n",
    "    if '\\n' in substring:\n",
    "        i = substring.index('\\n')\n",
    "        substring2 = substring[i+1:]\n",
    "        substring = substring[:i+1]\n",
    "    \n",
    "    return(minimo,substring,substring2)"
   ]
  },
  {
   "cell_type": "code",
   "execution_count": 7,
   "metadata": {},
   "outputs": [],
   "source": [
    "def LineaText (fitxer, sub1, sub2):\n",
    "    file = open(fitxer, \"r\")\n",
    "    text = file.readlines()\n",
    "    i = 0\n",
    "    trobat = False\n",
    "    while trobat == False:\n",
    "        if sub1 in text[i] and sub2 in text[i+1]:\n",
    "            trobat = True\n",
    "        i += 1\n",
    "    file.close()\n",
    "    return(i)"
   ]
  },
  {
   "cell_type": "code",
   "execution_count": 8,
   "metadata": {},
   "outputs": [
    {
     "data": {
      "text/plain": [
       "[['AGATACATTAGACAATAGAGATGTGGTC', 32, 11],\n",
       " ['GTCAGTCTGGCCTTGCCATTGGTGCCACCA', 352, 11],\n",
       " ['TACCGAGAAGCTGGATTACAGCATGTACCATCAT', 60, 13],\n",
       " 6.746510469647529]"
      ]
     },
     "execution_count": 8,
     "metadata": {},
     "output_type": "execute_result"
    }
   ],
   "source": [
    "# Test de la funció\n",
    "dna(['AGATACATTAGACAATAGAGATGTGGTC','GTCAGTCTGGCCTTGCCATTGGTGCCACCA','TACCGAGAAGCTGGATTACAGCATGTACCATCAT'], \"HUMAN-DNA.txt\")"
   ]
  },
  {
   "cell_type": "code",
   "execution_count": 2,
   "metadata": {},
   "outputs": [
    {
     "data": {
      "text/plain": [
       "'\\nLa 1*aparición de la string de distancia mínima a la 3*cadena ejemplo se da en las líneas 60 y 61,\\npues la string empeza a la linea 60 y se acaba en la línea 61.\\n\\nSua aparición en una sola línea se la en la Línea 233\\n\\nPor fin, se tratando de un cromosoma la solución correta para el ejemplo test 3 és linea 60.\\n\\n'"
      ]
     },
     "execution_count": 2,
     "metadata": {},
     "output_type": "execute_result"
    }
   ],
   "source": [
    "# OBSERVACIONES del Aluno\n",
    "\n",
    "'''\n",
    "La 1*aparición de la string de distancia mínima a la 3*cadena ejemplo se da en las líneas 60 y 61,\n",
    "pues la string empeza a la linea 60 y se acaba en la línea 61.\n",
    "\n",
    "Sua aparición en una sola línea se la en la Línea 233\n",
    "\n",
    "Por fin, se tratando de un cromosoma la solución correta para el ejemplo test 3 és linea 60.\n",
    "\n",
    "'''"
   ]
  },
  {
   "cell_type": "markdown",
   "metadata": {},
   "source": [
    "*Recordatori de teoria*: El càlcul de de la distancia d’un patró al substring més semblant d’un text es pot fer amb l’algorisme de Levenshtein. L’única diferència és que s’ha d’inicialitzar la primera fila amb zeros (=considerar que podem inserir tants espais en blanc al davant del patró com sigui necessari)  i que la distancia d’edició serà el valor mínim de l’última fila de la matriu de costos. També heu de tenir en compte els costos en la inicialització de la primera columna."
   ]
  },
  {
   "cell_type": "markdown",
   "metadata": {},
   "source": [
    "<p style=\"text-align:right;font-size:0.9em\">\n",
    "&copy;Jordi Vitrià i Mireia Ribera\n",
    "</p>"
   ]
  }
 ],
 "metadata": {
  "kernelspec": {
   "display_name": "Python 3",
   "language": "python",
   "name": "python3"
  },
  "language_info": {
   "codemirror_mode": {
    "name": "ipython",
    "version": 3
   },
   "file_extension": ".py",
   "mimetype": "text/x-python",
   "name": "python",
   "nbconvert_exporter": "python",
   "pygments_lexer": "ipython3",
   "version": "3.6.5"
  }
 },
 "nbformat": 4,
 "nbformat_minor": 2
}
