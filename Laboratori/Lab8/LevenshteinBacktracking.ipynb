{
 "cells": [
  {
   "cell_type": "markdown",
   "metadata": {},
   "source": [
    "<p style=\"text-align:right;font-size:0.9em\">\n",
    "Grau d'Enginyeria Informàtica. Algorísmica\n",
    "</p>"
   ]
  },
  {
   "cell_type": "markdown",
   "metadata": {},
   "source": [
    "<h1 style=\"padding:0.5em 0;font:Garamond;font-size:1-5em;color:#F90;background-color:#005\">\n",
    "Problema: Levenshtein amb backtracking\n",
    "</h1>"
   ]
  },
  {
   "cell_type": "markdown",
   "metadata": {},
   "source": [
    "Aquesta pràctica és una continuació del problemea de Levenshtein i fa servir les mateixes dades i el mateix algorisme\n",
    "\n",
    "+ Baixa't el fitxer HUMAN-DNA.txt al teu directori. \n",
    "\n",
    "Aquest fitxer conté una part del ADN del cromosoma 2 humà.\n",
    "\n",
    "## Pregunta 1\n",
    "\n",
    "Modifica el programa dna del Notebook anterior de manera que donat el patró *GGCCTTGCCATTGG*, per cada una de les 10 primeres línies del fitxer anterior indiqui:\n",
    "\n",
    "+ A quina distància d'edició està el substring més semblant d'aquella línia.\n",
    "+ El primer substring d'aquella línia que està a mínima distància d'edició.\n",
    "\n",
    "Per trobar el substring a mínima distància has de buscar els mínims de la darrera línia de la matriu, i recorrer el camí invers fins arribar a la primera fila o a la primera columna. Per exemple si la casella prové d'una substitució o d'una equivalència caldrà saltar a la casella en diagonal, si la casella prové d'una eliminació caldrà saltar a la casella directament superior i finalment si prové d'una inserció caldrà saltar a la casella esquerra. Un cop arribats al final el substring correspondrà a les lletres del text entre la columna inicial i la final.\n",
    "\n",
    "Es recomana fer proves amb textos senzills (no el fitxer) per poder fer el seguiment de la funció.\n",
    "\n",
    "La funció no ha de tenir cap tipus d’entrada de part de l’usuari, i la sortida per cada línia ha d'indicar la distància i el primer substring a distància mínima."
   ]
  },
  {
   "cell_type": "code",
   "execution_count": 1,
   "metadata": {},
   "outputs": [],
   "source": [
    "import time\n",
    "\n",
    "#-----------------------------------------------------------------------------\n",
    "# levenshtein_distance_dna2()\n",
    "#\n",
    "# en aquest cas genero una matriu amb els moviments que permet calcular el substring de distància mínima\n",
    "# \n",
    "# retorna:\n",
    "# - distància mínima\n",
    "# - substring\n",
    "#-----------------------------------------------------------------------------\n",
    "\n",
    "def levenshtein_distance_dna2(first, second):\n",
    "    if len(first) > len(second): \n",
    "        first, second = second, first\n",
    "    if len(second) == 0: \n",
    "        return len(first)\n",
    "    first_length = len(first) + 1\n",
    "    second_length = len(second) + 1\n",
    "    distance_matrix = [[0] * second_length for x in range(first_length)]\n",
    "    for i in range(first_length): \n",
    "        distance_matrix[i][0] = i\n",
    "    for j in range(second_length): \n",
    "        distance_matrix[0][j] = 0\n",
    "    for i in range(1, first_length):\n",
    "        for j in range(1, second_length):\n",
    "            deletion = distance_matrix[i-1][j] + 2\n",
    "            insertion = distance_matrix[i][j-1] + 2\n",
    "            substitution = distance_matrix[i-1][j-1]\n",
    "            if first[i-1] != second[j-1]: \n",
    "                substitution += 1\n",
    "            distance_matrix[i][j] = min(insertion,deletion,substitution)\n",
    "        \n",
    "    minimo = min(distance_matrix[i-1])\n",
    "    indexC = distance_matrix[i-1].index(minimo)\n",
    "    substring = second[indexC-len(first)+1:indexC]\n",
    "     \n",
    "    print(\"Distancia =\", minimo, \"|Substring =\",substring)\n",
    "    \n",
    "def dna2():\n",
    "    t1 = time.clock()\n",
    "    file = open(\"HUMAN-DNA.txt\", \"r\")\n",
    "    text = file.readlines(640) # 640 equivale a 10 líneas en este tamanho de texto\n",
    "    file.close()\n",
    "    i = 0\n",
    "    for linea in text:\n",
    "        i += 1\n",
    "        print(\"Línea:\",i)\n",
    "        levenshtein_distance_dna2(\"GGCCTTGCCATTGG \", linea)\n",
    "    t2 = time.clock()\n",
    "    print(\"Temps:\", t2-t1)"
   ]
  },
  {
   "cell_type": "code",
   "execution_count": 5,
   "metadata": {},
   "outputs": [
    {
     "name": "stdout",
     "output_type": "stream",
     "text": [
      "Línea: 1\n",
      "Distancia = 6 |Substring = AGGACTTGCCTCAC\n",
      "Línea: 2\n",
      "Distancia = 8 |Substring = AGGCTCTCCACACA\n",
      "Línea: 3\n",
      "Distancia = 6 |Substring = GGGAATTTCACTGG\n",
      "Línea: 4\n",
      "Distancia = 7 |Substring = GGAAATTCAATTTA\n",
      "Línea: 5\n",
      "Distancia = 8 |Substring = CTGCTAAACAGTAG\n",
      "Línea: 6\n",
      "Distancia = 8 |Substring = AAAGCTTTATTTGG\n",
      "Línea: 7\n",
      "Distancia = 7 |Substring = GGTCATTCTAATAA\n",
      "Línea: 8\n",
      "Distancia = 7 |Substring = ATCCATGTTTTTAG\n",
      "Línea: 9\n",
      "Distancia = 7 |Substring = CGAGTTTCAAATGC\n",
      "Línea: 10\n",
      "Distancia = 8 |Substring = TTCAATATAATTGC\n",
      "Temps: 0.02282324886427034\n"
     ]
    }
   ],
   "source": [
    "# Test de la funció\n",
    "dna2()"
   ]
  },
  {
   "cell_type": "markdown",
   "metadata": {},
   "source": [
    "<p style=\"text-align:right;font-size:0.9em\">\n",
    "&copy;Jordi Vitrià i Mireia Ribera\n",
    "</p>"
   ]
  }
 ],
 "metadata": {
  "kernelspec": {
   "display_name": "Python 3",
   "language": "python",
   "name": "python3"
  },
  "language_info": {
   "codemirror_mode": {
    "name": "ipython",
    "version": 3
   },
   "file_extension": ".py",
   "mimetype": "text/x-python",
   "name": "python",
   "nbconvert_exporter": "python",
   "pygments_lexer": "ipython3",
   "version": "3.6.5"
  }
 },
 "nbformat": 4,
 "nbformat_minor": 2
}
