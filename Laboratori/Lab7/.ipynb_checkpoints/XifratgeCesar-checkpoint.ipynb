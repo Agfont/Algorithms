{
 "cells": [
  {
   "cell_type": "markdown",
   "metadata": {},
   "source": [
    "<p style=\"text-align:right;font-size:0.9em\">\n",
    "Grau d'Enginyeria Informàtica. Algorísmica\n",
    "</p>"
   ]
  },
  {
   "cell_type": "markdown",
   "metadata": {},
   "source": [
    "<h1 style=\"padding:0.5em 0;font:Garamond;font-size:1-5em;color:#F90;background-color:#005\">\n",
    "Problema: Xifratge César\n",
    "</h1>"
   ]
  },
  {
   "cell_type": "markdown",
   "metadata": {},
   "source": [
    "El xifratge del Cèsar és un xifratge simple de substitució de  lletres que consisteix en canviar cada lletra d’un missatge per la lletra que es troba un cert nombre $n$ de posicions més enllà a l’alfabet. Aquesta variable $n$ és la clau de xifratge. Per exemple, si  $n=3$, el substitut de la ``a`` és la ``d``. El missatge original es pot recuperar fent servir el codi al revés (a l’exemple, faríem servir  $n=-3$ per a desxifrar). \n",
    "\n",
    "+ Escriu una funció, ``cesar``, que demani una clau pel xifratge i una frase (formada per lletres i espais) per xifrar. La sortida ha de ser la frase xifrada."
   ]
  },
  {
   "cell_type": "code",
   "execution_count": 30,
   "metadata": {},
   "outputs": [
    {
     "name": "stdout",
     "output_type": "stream",
     "text": [
      "Variació de posicions: 3\n",
      "Frase: x\n",
      "a\n"
     ]
    }
   ],
   "source": [
    "# Substitueix la comanda pass per la teva solució\n",
    "def cesar():\n",
    "    n = int(input(\"Variació de posicions: \"))\n",
    "    n = n % 26\n",
    "    l = []\n",
    "    frase = input(\"Frase: \")\n",
    "    for i in frase:\n",
    "        if (ord(i) >= 32 and ord(i)) <= 47 or (ord(i) >= 58 and ord(i) <= 64) or (ord(i) >= 91 and ord(i) <= 96) or ord(i) >= 123 and ord(i) <= 126:\n",
    "            l.append(i)\n",
    "        elif (ord(i)+n) > 122 or ((ord(i)+n) > 90 and ((ord(i)+n) < 97)):\n",
    "            n -= 26\n",
    "            l.append(chr(ord(i)+n))\n",
    "        else:\n",
    "            l.append(chr(ord(i)+n))\n",
    "    print(\"\".join(l))\n",
    "cesar()"
   ]
  },
  {
   "cell_type": "code",
   "execution_count": 25,
   "metadata": {},
   "outputs": [
    {
     "name": "stdout",
     "output_type": "stream",
     "text": [
      "97 122\n",
      "65 90\n",
      "32\n"
     ]
    }
   ],
   "source": [
    "print(ord('a'),ord('z'))\n",
    "print(ord('A'),ord('Z'))\n",
    "print(ord(' '))"
   ]
  },
  {
   "cell_type": "code",
   "execution_count": null,
   "metadata": {},
   "outputs": [],
   "source": []
  },
  {
   "cell_type": "markdown",
   "metadata": {},
   "source": [
    "## Pregunta 1\n",
    "\n",
    "Baixeu‐vos la lletra d’una cançó qualsevol (per exemple, de http://www.azlyrics.com/) i copieu-la a un fitxer anomenat lletra.txt. Donada la següent funció:"
   ]
  },
  {
   "cell_type": "code",
   "execution_count": null,
   "metadata": {},
   "outputs": [],
   "source": [
    "def lyrics():\n",
    "    f = open(\"lletra.txt\",\"r\")\n",
    "    text = f.readlines()\n",
    "    f.close()\n",
    "    for line in text:\n",
    "            print(line,end=\"\")\n",
    "    print\n",
    "\n",
    "lyrics()"
   ]
  },
  {
   "cell_type": "markdown",
   "metadata": {},
   "source": [
    "Executeu-la per veure què fa, i modifiqueu-la de manera que escrigui en un altre fitxer, lletra_cesar.txt (i no per pantalla) la cançó segons el xifratge del Cèsar amb  n=5 , fent que escrigui el nombre de línia al començament de cada línia."
   ]
  },
  {
   "cell_type": "code",
   "execution_count": null,
   "metadata": {},
   "outputs": [],
   "source": [
    "# Substitueix la comanda pass per la teva solució\n",
    "def cesar2():\n",
    "    pass"
   ]
  },
  {
   "cell_type": "markdown",
   "metadata": {},
   "source": [
    "<p style=\"text-align:right;font-size:0.9em\">\n",
    "&copy;Jordi Vitrià i Mireia Ribera\n",
    "</p>"
   ]
  }
 ],
 "metadata": {
  "kernelspec": {
   "display_name": "Python 3",
   "language": "python",
   "name": "python3"
  }
 },
 "nbformat": 4,
 "nbformat_minor": 2
}
