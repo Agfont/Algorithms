{
 "cells": [
  {
   "cell_type": "markdown",
   "metadata": {},
   "source": [
    "<p style=\"text-align:right;font-size:0.9em\">\n",
    "Grau d'Enginyeria Informàtica. Algorísmica\n",
    "</p>"
   ]
  },
  {
   "cell_type": "markdown",
   "metadata": {},
   "source": [
    "<h1 style=\"padding:0.5em 0;font:Garamond;font-size:1-5em;color:#F90;background-color:#005\">\n",
    "Problema: Divisors\n",
    "</h1>"
   ]
  },
  {
   "cell_type": "markdown",
   "metadata": {},
   "source": [
    "Escriu una funció ``divisors`` que demani un nombre menor que 30 a l'usuari i mostri una llista amb tots els seus divisors.\n",
    "\n",
    "Exemple:\n",
    "- Digues-me un nombre? 8  => [1,2,4,8]\n",
    "- Digues-me un nombre? 5  => [1,5]"
   ]
  },
  {
   "cell_type": "code",
   "execution_count": 10,
   "metadata": {},
   "outputs": [
    {
     "name": "stdout",
     "output_type": "stream",
     "text": [
      "Dame un numero menor que 30: 12\n",
      "[1, 2, 3, 4, 6, 12]\n"
     ]
    }
   ],
   "source": [
    "def divisors():\n",
    "    \"\"\"\n",
    "    Aquesta funció, pregunta a l'usuari un nombre i retorna\n",
    "    la llista amb els seus divisors\n",
    "    :return: llista amb els divisors del nombre introduït per l'usuari\n",
    "    \"\"\"\n",
    "    n = int(input(\"Dame un numero menor que 30: \"))\n",
    "    l1 = [i for i in range(1,n+1) if n % i == 0 ]\n",
    "    print(l1)\n",
    "    \n",
    "divisors()"
   ]
  },
  {
   "cell_type": "markdown",
   "metadata": {},
   "source": [
    "<h2 style=\"padding:0.5em 0;font:Garamond;font-size:1.2em;color:#FA0;background-color:#005\">\n",
    "Pregunta 1: Quina solució hauria de donar per als següents valors:\n",
    "</h2>"
   ]
  },
  {
   "cell_type": "markdown",
   "metadata": {},
   "source": [
    "- 28\n",
    "- 12\n",
    "- 5     "
   ]
  },
  {
   "cell_type": "code",
   "execution_count": 11,
   "metadata": {},
   "outputs": [
    {
     "name": "stdout",
     "output_type": "stream",
     "text": [
      "Dame un numero menor que 30: 28\n",
      "[1, 2, 4, 7, 14, 28]\n",
      "Dame un numero menor que 30: 12\n",
      "[1, 2, 3, 4, 6, 12]\n",
      "Dame un numero menor que 30: 5\n",
      "[1, 5]\n"
     ]
    }
   ],
   "source": [
    "divisors()\n",
    "divisors()\n",
    "divisors()"
   ]
  },
  {
   "cell_type": "markdown",
   "metadata": {},
   "source": [
    "<h2 style=\"padding:0.5em 0;font:Garamond;font-size:1.2em;color:#FA0;background-color:#005\">\n",
    "Pregunta 2: Reescriu el programa amb una list comprehension\n",
    "</h2>"
   ]
  },
  {
   "cell_type": "code",
   "execution_count": 12,
   "metadata": {},
   "outputs": [
    {
     "name": "stdout",
     "output_type": "stream",
     "text": [
      "Dame un numero menor que 30: 30\n",
      "[1, 2, 3, 5, 6, 10, 15, 30]\n"
     ]
    }
   ],
   "source": [
    "def divisors():\n",
    "    \"\"\"\n",
    "    Aquesta funció, pregunta a l'usuari un nombre i retorna\n",
    "    la llista amb els seus divisors\n",
    "    :return: llista amb els divisors del nombre introduït per l'usuari\n",
    "    \"\"\"\n",
    "    n = int(input(\"Dame un numero menor que 30: \"))\n",
    "    l1 = [i for i in range(1,n+1) if n % i == 0 ]\n",
    "    print(l1)\n",
    "    \n",
    "divisors()"
   ]
  },
  {
   "cell_type": "markdown",
   "metadata": {},
   "source": [
    "<p style=\"text-align:right;font-size:0.9em\">\n",
    "&copy;Jordi Vitrià i Mireia Ribera\n",
    "</p>"
   ]
  }
 ],
 "metadata": {
  "kernelspec": {
   "display_name": "Python 3",
   "language": "python",
   "name": "python3"
  },
  "language_info": {
   "codemirror_mode": {
    "name": "ipython",
    "version": 3
   },
   "file_extension": ".py",
   "mimetype": "text/x-python",
   "name": "python",
   "nbconvert_exporter": "python",
   "pygments_lexer": "ipython3",
   "version": "3.6.5"
  }
 },
 "nbformat": 4,
 "nbformat_minor": 2
}
