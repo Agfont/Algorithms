{
 "cells": [
  {
   "cell_type": "markdown",
   "metadata": {},
   "source": [
    "<p style=\"text-align:right;font-size:0.9em\">\n",
    "Grau d'Enginyeria Informàtica. Algorísmica\n",
    "</p>"
   ]
  },
  {
   "cell_type": "markdown",
   "metadata": {},
   "source": [
    "<h1 style=\"padding:0.5em 0;font:Garamond;font-size:1-5em;color:#F90;background-color:#005\">\n",
    "Sessió de Laboratori 3: Python</h1>"
   ]
  },
  {
   "cell_type": "markdown",
   "metadata": {
    "collapsed": true
   },
   "source": [
    "## Problema 1: \n",
    "Resol el problema del conjunt de problemes **Divisors**"
   ]
  },
  {
   "cell_type": "code",
   "execution_count": null,
   "metadata": {},
   "outputs": [],
   "source": [
    "def divisors():\n",
    "    \"\"\"\n",
    "    Aquesta funció, pregunta a l'usuari un nombre i retorna\n",
    "    la llista amb els seus divisors\n",
    "    :return: llista amb els divisors del nombre introduït per l'usuari\n",
    "    \"\"\"\n",
    "    n = int(input(\"Dame un numero menor que 30: \"))\n",
    "    l1 = [i for i in range(1,n+1) if n % i == 0 ]\n",
    "    print(l1)\n",
    "    \n",
    "divisors()"
   ]
  },
  {
   "cell_type": "code",
   "execution_count": null,
   "metadata": {},
   "outputs": [],
   "source": [
    "divisors()\n",
    "divisors()\n",
    "divisors()"
   ]
  },
  {
   "cell_type": "markdown",
   "metadata": {},
   "source": [
    "## Problema 2: \n",
    "Resol el problema del conjunt de problemes **Perfecte**"
   ]
  },
  {
   "cell_type": "code",
   "execution_count": null,
   "metadata": {},
   "outputs": [],
   "source": [
    "def perfect(n):\n",
    "    l1 = [i for i in range(1,n) if n % i == 0 ]\n",
    "    suma = sum(l1)\n",
    "    if suma == n:\n",
    "        print(n,\"és perfecte\")\n",
    "    else:\n",
    "        print(n,\"NO és perfecte\")\n",
    "\n",
    "perfect(8)"
   ]
  },
  {
   "cell_type": "markdown",
   "metadata": {},
   "source": [
    "## Problema 3: \n",
    "Resol el problema del conjunt de problemes **SumaDigitsPotencia**"
   ]
  },
  {
   "cell_type": "code",
   "execution_count": null,
   "metadata": {},
   "outputs": [],
   "source": [
    "numero = 2**1000\n",
    "cadeia = str(numero)\n",
    "l = []\n",
    "for i in range(0,len(cadeia)):\n",
    "    digitos = int(cadeia[i])\n",
    "    l.append(digitos)\n",
    "suma = sum(l)\n",
    "print(suma)"
   ]
  },
  {
   "cell_type": "markdown",
   "metadata": {},
   "source": [
    "<p style=\"text-align:right;font-size:0.9em\">\n",
    "&copy;Jordi Vitrià i Mireia Ribera\n",
    "</p>"
   ]
  }
 ],
 "metadata": {
  "kernelspec": {
   "display_name": "Python 3",
   "language": "python",
   "name": "python3"
  },
  "language_info": {
   "codemirror_mode": {
    "name": "ipython",
    "version": 3
   },
   "file_extension": ".py",
   "mimetype": "text/x-python",
   "name": "python",
   "nbconvert_exporter": "python",
   "pygments_lexer": "ipython3",
   "version": "3.6.5"
  }
 },
 "nbformat": 4,
 "nbformat_minor": 2
}
