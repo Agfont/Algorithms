{
 "cells": [
  {
   "cell_type": "markdown",
   "metadata": {},
   "source": [
    "<p style=\"text-align:right;font-size:0.9em\">\n",
    "Grau d'Enginyeria Informàtica. Algorísmica\n",
    "</p>"
   ]
  },
  {
   "cell_type": "markdown",
   "metadata": {},
   "source": [
    "<h1 style=\"padding:0.5em 0;font:Garamond;font-size:1-5em;color:#F90;background-color:#005\">\n",
    "Sessió de Laboratori 2: Python2"
   ]
  },
  {
   "cell_type": "markdown",
   "metadata": {},
   "source": [
    "## Exercici 1\n",
    "\n",
    "+ Observa el següent codi i fes els canvis que s'indiquen en una nova casella de codi Python creada per tu. Per saber com funciona la impressió de valors dintre de cadenes de caràcters, pots consultar la <a href=\"https://docs.python.org/2/library/stdtypes.html#string-formatting-operations\" title=\"string-formatting-operations\">documentació de Python</a>."
   ]
  },
  {
   "cell_type": "code",
   "execution_count": null,
   "metadata": {},
   "outputs": [],
   "source": [
    "def provaentrada():\n",
    "    app=input(\"Digues-me un joc de mobil que t'agradi \")\n",
    "    nivell=int(input(\"Digues-me per quin nivell vas \"))\n",
    "    android=bool(input(\"Es una aplicacio Android (respon True o False) \"))\n",
    "    print (\"La teva app s'anomena: \",app,\" vas pel nivell: \",nivell,\" i és una aplicació Android: \",android)\n",
    "    #Canvia les preguntes per tal de demanar les dades de dues apps simultàniament\n",
    "    #Demana també una puntuació per les apps entre 0 i 1 amb decimals (per ex. 0.3,0.5,0.7)\n",
    "    #Canvia el resultat segons els canvis anteriors \n",
    "    \n",
    "\n",
    "provaentrada()"
   ]
  },
  {
   "cell_type": "code",
   "execution_count": 17,
   "metadata": {},
   "outputs": [],
   "source": [
    "def provaentrada2():\n",
    "    \"\"\"\n",
    "    Aquest programa demana les dades de dues apps de mòbil i mostra els resultats\n",
    "    :param cap\n",
    "    :return res\n",
    "    \"\"\"\n",
    "    app=input(\"Digues-me dos jocs de mobil que t'agradi: \")\n",
    "    nivell= list(input(\"Digues-me per quin nivell van: \"))\n",
    "    android=bool(input(\"Son aplicaciones Android: (respon True o False) \"))\n",
    "    a1 = int(nivell[0])\n",
    "    if nivell[1] == \"0\":\n",
    "        a1 = 10\n",
    "    n1 = a1/10\n",
    "    a2 = int(nivell[len(nivell)-1])\n",
    "    if nivell[len(nivell)-2] == \"1\":\n",
    "        a2 = 10\n",
    "    n2 = a2/10\n",
    "    print (\"Las tevas app s'anomena: \",app,\"\\nVas pel nivell: \",n1,\"i\",n2,\"\\nSon aplicacions Android: \",android)\n",
    "    "
   ]
  },
  {
   "cell_type": "code",
   "execution_count": 18,
   "metadata": {},
   "outputs": [
    {
     "name": "stdout",
     "output_type": "stream",
     "text": [
      "Digues-me dos jocs de mobil que t'agradi: a i b\n",
      "Digues-me per quin nivell van: 10 i 10\n",
      "Son aplicaciones Android: (respon True o False) True\n",
      "Las tevas app s'anomena:  a i b \n",
      "Vas pel nivell:  1.0 i 1.0 \n",
      "Son aplicacions Android:  True\n"
     ]
    }
   ],
   "source": [
    "provaentrada2()"
   ]
  },
  {
   "cell_type": "markdown",
   "metadata": {},
   "source": [
    "## Exercici 2\n",
    "\n",
    "+ Escriu, fent servir la instrucció ``while``, una funció, ``mentre``,  que calculi el següents valors:\n",
    "\n",
    "    +\tEl nombre de vegades que un nombre n pot ser dividir per $7$ abans d’arribar a $10$.\n",
    "    +\tLa multiplicació de tots els nombres enters positius dins **llista** fins a trobar un nombre negatiu. "
   ]
  },
  {
   "cell_type": "code",
   "execution_count": 7,
   "metadata": {},
   "outputs": [],
   "source": [
    "# Substitueix la comanda pass per la teva solució\n",
    "\n",
    "def mentre(n,llista):\n",
    "    i=0\n",
    "    j=0\n",
    "    a = 1\n",
    "    while n > 10:\n",
    "        n = n/7\n",
    "        i +=1\n",
    "    while llista[j] >= 0:\n",
    "        a = a*llista[j]\n",
    "        j +=1\n",
    "    print(i,a)"
   ]
  },
  {
   "cell_type": "code",
   "execution_count": 9,
   "metadata": {},
   "outputs": [
    {
     "name": "stdout",
     "output_type": "stream",
     "text": [
      "2 20\n"
     ]
    }
   ],
   "source": [
    "#Test de la funció\n",
    "\n",
    "mentre(490,[2,2,5,1,-3,2]) # Aquest exemple hauria de retornar (2,20)"
   ]
  },
  {
   "cell_type": "markdown",
   "metadata": {},
   "source": [
    "## Exercici 3\n",
    "\n",
    "Escriu, fent servir la instrucció for, una funció, per, que calculi el següents valors:\n",
    "La suma dels n primers nombres parells\n",
    "Una llista amb els n primers nombres senars\n",
    "Atenció: el problema s'ha de resoldre amb iteracions"
   ]
  },
  {
   "cell_type": "code",
   "execution_count": 1,
   "metadata": {},
   "outputs": [],
   "source": [
    "# Substitueix la comanda pass per la teva solució\n",
    "def per(n):\n",
    "    li = []\n",
    "    suma = 0\n",
    "    for i in range(1,n*2,2):\n",
    "        li.append(i)\n",
    "    for j in range(2,n*2+1,2):\n",
    "        suma += j\n",
    "    print((suma,li))\n",
    "    \n",
    "        "
   ]
  },
  {
   "cell_type": "code",
   "execution_count": 2,
   "metadata": {},
   "outputs": [
    {
     "name": "stdout",
     "output_type": "stream",
     "text": [
      "(30, [1, 3, 5, 7, 9])\n"
     ]
    }
   ],
   "source": [
    "# Test de la funció\n",
    "\n",
    "per(5)\n",
    "# aquest exemple hauria de retornar (30,[1,3,5,7,9])"
   ]
  },
  {
   "cell_type": "markdown",
   "metadata": {
    "collapsed": true
   },
   "source": [
    "## Problema 1: \n",
    "Resol el problema del conjunt de problemes **Calculadora**"
   ]
  },
  {
   "cell_type": "code",
   "execution_count": null,
   "metadata": {},
   "outputs": [],
   "source": [
    "def calculadora():\n",
    "    s = str(input(\"Entra operació: \"))\n",
    "    x = \"\"\n",
    "    y = \"\"\n",
    "    if \"+\" in s:\n",
    "        i = s.index(\"+\")\n",
    "    elif \"-\" in s:\n",
    "        i = s.index(\"-\")\n",
    "    elif \"*\" in s:\n",
    "        i = s.index(\"*\")\n",
    "    for a in range(i):\n",
    "        x += s[a]    \n",
    "    for b in range(i+1,len(s)):\n",
    "        y += s[b]\n",
    "    x = int(x)\n",
    "    y = int(y)\n",
    "    if \"+\" in s:\n",
    "        res = x + y\n",
    "    elif \"-\" in s:\n",
    "        res = x - y\n",
    "    elif \"*\" in s:\n",
    "        res = x * y\n",
    "    print(res)"
   ]
  },
  {
   "cell_type": "markdown",
   "metadata": {},
   "source": [
    "## Problema 2: \n",
    "Resol el problema del conjunt de problemes **ProuCerveses**"
   ]
  },
  {
   "cell_type": "code",
   "execution_count": null,
   "metadata": {},
   "outputs": [],
   "source": [
    "# Inserir aquí el codi de la solució\n",
    "def prouCerveses(numCerveses,esCapDeSetmana):\n",
    "    if numCerveses < 50:\n",
    "        print(\"Fracàs de festa\")\n",
    "    else:\n",
    "        if esCapDeSetmana == False:\n",
    "            if numCerveses > 100:\n",
    "                print(\"Fracàs de festa\")\n",
    "            else:\n",
    "                print(\"Èxit de festa\")\n",
    "        else:\n",
    "            print(\"Èxit de festa\")"
   ]
  },
  {
   "cell_type": "markdown",
   "metadata": {},
   "source": [
    "## Problema 3: \n",
    "Resol el problema del conjunt de problemes **FactorialMenor**"
   ]
  },
  {
   "cell_type": "code",
   "execution_count": 12,
   "metadata": {},
   "outputs": [],
   "source": [
    "# Substitueix la comanda pass per la teva solució\n",
    "import math\n",
    "def factmenor():\n",
    "    fact = 1\n",
    "    j = 1\n",
    "    while fact <= 999999999999999999999999:\n",
    "        fact *= j\n",
    "        j +=1\n",
    "        if fact <= 999999999999999999999999:\n",
    "            print(fact)"
   ]
  },
  {
   "cell_type": "code",
   "execution_count": 13,
   "metadata": {},
   "outputs": [
    {
     "name": "stdout",
     "output_type": "stream",
     "text": [
      "1\n",
      "2\n",
      "6\n",
      "24\n",
      "120\n",
      "720\n",
      "5040\n",
      "40320\n",
      "362880\n",
      "3628800\n",
      "39916800\n",
      "479001600\n",
      "6227020800\n",
      "87178291200\n",
      "1307674368000\n",
      "20922789888000\n",
      "355687428096000\n",
      "6402373705728000\n",
      "121645100408832000\n",
      "2432902008176640000\n",
      "51090942171709440000\n",
      "1124000727777607680000\n",
      "25852016738884976640000\n",
      "620448401733239439360000\n"
     ]
    }
   ],
   "source": [
    "# Test de la funció\n",
    "factmenor()"
   ]
  },
  {
   "cell_type": "markdown",
   "metadata": {},
   "source": [
    "## Problema 4: \n",
    "Resol el problema del conjunt de problemes **Feliç**"
   ]
  },
  {
   "cell_type": "code",
   "execution_count": 9,
   "metadata": {},
   "outputs": [
    {
     "data": {
      "text/plain": [
       "(True, False, True)"
      ]
     },
     "execution_count": 9,
     "metadata": {},
     "output_type": "execute_result"
    }
   ],
   "source": [
    "#1\n",
    "\n",
    "def cuadrados(num):\n",
    "    suma = 0\n",
    "    num = str(num)\n",
    "    for i in range (len(num)):\n",
    "        suma = suma + int(num[i])**2\n",
    "    return suma\n",
    "\n",
    "\n",
    "def feliç(num):\n",
    "    while cuadrados(num) != 1:\n",
    "        num = cuadrados(num)\n",
    "        if num < 10 and num != 1:\n",
    "            return False\n",
    "    return True\n",
    "\n",
    "feliç(921),feliç(717),feliç(2039)\n",
    "# 921 i 2039 són nombres feliços, 717 no és"
   ]
  },
  {
   "cell_type": "code",
   "execution_count": 10,
   "metadata": {},
   "outputs": [
    {
     "data": {
      "text/plain": [
       "438"
      ]
     },
     "execution_count": 10,
     "metadata": {},
     "output_type": "execute_result"
    }
   ],
   "source": [
    "#2\n",
    "len([j for j in range (1,3000+1) if feliç(j)])"
   ]
  },
  {
   "cell_type": "code",
   "execution_count": 11,
   "metadata": {},
   "outputs": [
    {
     "name": "stdout",
     "output_type": "stream",
     "text": [
      "El nombre feliç 1234 és el:  8478\n"
     ]
    }
   ],
   "source": [
    "#3\n",
    "def feliçx(num):\n",
    "    l = []\n",
    "    j = 0\n",
    "    while len(l) < num:\n",
    "        j += 1\n",
    "        if feliç(j):\n",
    "            l.append(j)\n",
    "    return l[-1]\n",
    "\n",
    "print(\"El nombre feliç 1234 és el: \", feliçx(1234))"
   ]
  },
  {
   "cell_type": "markdown",
   "metadata": {},
   "source": [
    "<p style=\"text-align:right;font-size:0.9em\">\n",
    "&copy;Jordi Vitrià i Mireia Ribera\n",
    "</p>"
   ]
  }
 ],
 "metadata": {
  "kernelspec": {
   "display_name": "Python 3",
   "language": "python",
   "name": "python3"
  },
  "language_info": {
   "codemirror_mode": {
    "name": "ipython",
    "version": 3
   },
   "file_extension": ".py",
   "mimetype": "text/x-python",
   "name": "python",
   "nbconvert_exporter": "python",
   "pygments_lexer": "ipython3",
   "version": "3.6.5"
  }
 },
 "nbformat": 4,
 "nbformat_minor": 2
}
