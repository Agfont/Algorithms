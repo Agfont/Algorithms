{
 "cells": [
  {
   "cell_type": "markdown",
   "metadata": {},
   "source": [
    "<p style=\"text-align:right;font-size:0.9em\">\n",
    "Grau d'Enginyeria Informàtica. Algorísmica\n",
    "</p>"
   ]
  },
  {
   "cell_type": "markdown",
   "metadata": {},
   "source": [
    "<h1 style=\"padding:0.5em 0;font:Garamond;font-size:1-5em;color:#F90;background-color:#005\">\n",
    "Problema: Número feliç\n",
    "</h1>"
   ]
  },
  {
   "cell_type": "markdown",
   "metadata": {},
   "source": [
    "Un número, **x**, es diu **feliç** si la suma dels quadrats dels seus dígits (fins que només quedi una xifra), és 1\n",
    "\n",
    "Exemple: \n",
    "\n",
    "- 203: $2^2+0^2+3^2 = 13$\n",
    "- 13: $1^2 +3^2 = 10$\n",
    "- 10: $1^2 +0^2 = 1$ \n",
    "\n",
    "Així doncs 203 és un nombre feliç. (En particular, també ho són el 13 i el 10)\n",
    "\n",
    "\n",
    "Seguint el mateix esquema que l'exercici anterior:\n",
    "\n",
    "1. Comproveu si els nombres: 921, 717, 2039, són nombres feliços\n",
    "2. Quants nombres feliços hi ha fins a 3.000?\n",
    "3. Si el primer nombre feliç és l'1, quin és el nombre feliç número 1234? (Fer servir _while_)"
   ]
  },
  {
   "cell_type": "code",
   "execution_count": 16,
   "metadata": {},
   "outputs": [
    {
     "data": {
      "text/plain": [
       "(True, False, True)"
      ]
     },
     "execution_count": 16,
     "metadata": {},
     "output_type": "execute_result"
    }
   ],
   "source": [
    "#1\n",
    "\n",
    "def cuadrados(num):\n",
    "    suma = 0\n",
    "    num = str(num)\n",
    "    for i in range (len(num)):\n",
    "        suma = suma + int(num[i])**2\n",
    "    return suma\n",
    "\n",
    "\n",
    "def feliç(num):\n",
    "    while cuadrados(num) != 1:\n",
    "        num = cuadrados(num)\n",
    "        if num < 10 and num != 1:\n",
    "            return False\n",
    "    return True\n",
    "\n",
    "feliç(921),feliç(717),feliç(2039)\n",
    "# 921 i 2039 són nombres feliços, 717 no és"
   ]
  },
  {
   "cell_type": "code",
   "execution_count": 17,
   "metadata": {},
   "outputs": [
    {
     "data": {
      "text/plain": [
       "438"
      ]
     },
     "execution_count": 17,
     "metadata": {},
     "output_type": "execute_result"
    }
   ],
   "source": [
    "#2\n",
    "len([j for j in range (1,3000+1) if feliç(j)])"
   ]
  },
  {
   "cell_type": "code",
   "execution_count": 18,
   "metadata": {},
   "outputs": [
    {
     "name": "stdout",
     "output_type": "stream",
     "text": [
      "El nombre feliç 1234 és el:  8478\n"
     ]
    }
   ],
   "source": [
    "#3\n",
    "\n",
    "def feliçx(num):\n",
    "    l = []\n",
    "    j = 0\n",
    "    while len(l) < num:\n",
    "        j += 1\n",
    "        if feliç(j):\n",
    "            l.append(j)\n",
    "    return l[-1]\n",
    "\n",
    "print(\"El nombre feliç 1234 és el: \", feliçx(1234))"
   ]
  },
  {
   "cell_type": "markdown",
   "metadata": {},
   "source": [
    "## Referències\n",
    "\n",
    "Els enunciats d'aquests problemes estan extrets de https://www.gaussianos.com/tipos-de-numeros/ i la selecció de problemes esta feta per Pere Gilabert, auxiliar docent del curs 2017-2018."
   ]
  },
  {
   "cell_type": "markdown",
   "metadata": {},
   "source": [
    "<p style=\"text-align:right;font-size:0.9em\">\n",
    "&copy;Jordi Vitrià i Mireia Ribera\n",
    "</p>"
   ]
  }
 ],
 "metadata": {
  "kernelspec": {
   "display_name": "Python 3",
   "language": "python",
   "name": "python3"
  },
  "language_info": {
   "codemirror_mode": {
    "name": "ipython",
    "version": 3
   },
   "file_extension": ".py",
   "mimetype": "text/x-python",
   "name": "python",
   "nbconvert_exporter": "python",
   "pygments_lexer": "ipython3",
   "version": "3.6.5"
  }
 },
 "nbformat": 4,
 "nbformat_minor": 2
}
