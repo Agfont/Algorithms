{
 "cells": [
  {
   "cell_type": "markdown",
   "metadata": {},
   "source": [
    "<p style=\"text-align:right;font-size:0.9em\">\n",
    "Grau d'Enginyeria Informàtica. Algorísmica\n",
    "</p>"
   ]
  },
  {
   "cell_type": "markdown",
   "metadata": {},
   "source": [
    "<h1 style=\"padding:0.5em 0;font:Garamond;font-size:1-5em;color:#F90;background-color:#005\">\n",
    "Problema: Generació de palíndroms\n",
    "</h1>"
   ]
  },
  {
   "cell_type": "markdown",
   "metadata": {},
   "source": [
    "<p style=\"font-family:Arial;font-size:1em\">\n",
    "Donada una cadena de caràcters, trobar tots els palíndroms generables a partir de les seves lletres. En aquest exercici pots fer servir la llibreria de Python <a href=\"https://docs.python.org/2/library/itertools.html\">itertools</a> per crear les possibles combinacions.\n",
    "</p>"
   ]
  },
  {
   "cell_type": "markdown",
   "metadata": {},
   "source": [
    "<div style=\"font-style:italic\">\n",
    "Per exemple:\n",
    "<ul>\n",
    "<li>cadena=\"baaeb</li>\n",
    "<li>Solució:\n",
    "   <ul>\n",
    "   <li>baeab,abeba </li>\n",
    "   </ul>\n",
    "</li>\n",
    "<li>cadena=\"mmmu</li>\n",
    "<li>Solució:\n",
    "   <ul>\n",
    "   <li>no es poden crear palíndroms amb aquestes lletres </li>\n",
    "   </ul>\n",
    "</li>\n",
    "</ul>\n",
    "</div>"
   ]
  },
  {
   "cell_type": "markdown",
   "metadata": {},
   "source": [
    "<h2 style=\"padding:0.5em 0;font:Garamond;font-size:1.2em;color:#FA0;background-color:#005\">\n",
    "Pregunta 1: Quina solució hauria de donar per als següents valors:\n",
    "</h2>"
   ]
  },
  {
   "cell_type": "markdown",
   "metadata": {},
   "source": [
    "- generarPalindroms(\"ab\")\n",
    "- generarPalindroms(\"aabtb\")        "
   ]
  },
  {
   "cell_type": "code",
   "execution_count": 8,
   "metadata": {},
   "outputs": [],
   "source": [
    "import itertools\n",
    "def generarPalindroms(a):\n",
    "    long = len(a)\n",
    "    m = long//2\n",
    "    res = []\n",
    "    perm = list(itertools.permutations(a,long))\n",
    "    if (long % 2) == 0 :\n",
    "        for i in perm:\n",
    "            if (i[:m]==i[:m-1:-1]):\n",
    "                if i not in res:\n",
    "                    res.append(i)\n",
    "    else:\n",
    "        for i in perm:\n",
    "            if (i[:m]==i[:m:-1]):\n",
    "                if i not in res:\n",
    "                    res.append(i)\n",
    "    if len(res) != 0:\n",
    "        for j in res:\n",
    "            res = \"\".join(j)\n",
    "            print(res)\n",
    "    else:\n",
    "        print(\"no es poden crear palíndroms amb aquestes lletres\")"
   ]
  },
  {
   "cell_type": "code",
   "execution_count": 9,
   "metadata": {},
   "outputs": [
    {
     "name": "stdout",
     "output_type": "stream",
     "text": [
      "no es poden crear palíndroms amb aquestes lletres\n",
      "abtba\n",
      "batab\n"
     ]
    }
   ],
   "source": [
    "generarPalindroms('ab')\n",
    "generarPalindroms('aabtb')"
   ]
  },
  {
   "cell_type": "markdown",
   "metadata": {},
   "source": [
    "<h2 style=\"padding:0.5em 0;font:Garamond;font-size:1.2em;color:#FA0;background-color:#005\">\n",
    "Pregunta 2: Què passa si una lletra apareix 5 cops? proposa possibles cadenes d'entrada i explica els resultats\n",
    "</h2>"
   ]
  },
  {
   "cell_type": "code",
   "execution_count": 10,
   "metadata": {},
   "outputs": [
    {
     "name": "stdout",
     "output_type": "stream",
     "text": [
      "no es poden crear palíndroms amb aquestes lletres\n",
      "aababaa\n",
      "abaaaba\n",
      "baaaaab\n"
     ]
    }
   ],
   "source": [
    "# escriure aquí la solució\n",
    "generarPalindroms('aaaaab')\n",
    "# si el resto for impar, no se puede gerar, porque no el len es par, así no hay medio entero.\n",
    "generarPalindroms('aaaaabb')\n",
    "# si el resto for par, se puede"
   ]
  },
  {
   "cell_type": "markdown",
   "metadata": {},
   "source": [
    "<p style=\"text-align:right;font-size:0.9em\">\n",
    "&copy;Jordi Vitrià i Mireia Ribera\n",
    "</p>"
   ]
  },
  {
   "cell_type": "code",
   "execution_count": null,
   "metadata": {},
   "outputs": [],
   "source": []
  }
 ],
 "metadata": {
  "kernelspec": {
   "display_name": "Python 3",
   "language": "python",
   "name": "python3"
  },
  "language_info": {
   "codemirror_mode": {
    "name": "ipython",
    "version": 3
   },
   "file_extension": ".py",
   "mimetype": "text/x-python",
   "name": "python",
   "nbconvert_exporter": "python",
   "pygments_lexer": "ipython3",
   "version": "3.6.5"
  }
 },
 "nbformat": 4,
 "nbformat_minor": 2
}
