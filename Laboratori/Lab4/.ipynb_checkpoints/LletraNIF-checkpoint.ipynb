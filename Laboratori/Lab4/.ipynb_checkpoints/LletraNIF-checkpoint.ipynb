{
 "cells": [
  {
   "cell_type": "markdown",
   "metadata": {},
   "source": [
    "<p style=\"text-align:right;font-size:0.9em\">\n",
    "Grau d'Enginyeria Informàtica. Algorísmica\n",
    "</p>"
   ]
  },
  {
   "cell_type": "markdown",
   "metadata": {},
   "source": [
    "<h1 style=\"padding:0.5em 0;font:Garamond;font-size:1-5em;color:#F90;background-color:#005\">\n",
    "Problema: Lletra NIF\n",
    "</h1>"
   ]
  },
  {
   "cell_type": "markdown",
   "metadata": {},
   "source": [
    "L’última lletra del NIF es calcula a partir dels nombres del DNI. Per fer‐ho, s’ha de dividir el nombre per 23 i quedar‐se amb la resta, que és un nombre entre 0 i 22. Llavors s’aplica la següent taula per transformar aquest nombre en una lletra:\n",
    "\n",
    "\n",
    "\n",
    "| Resta\t| Lletra | Resta | Lletra | \n",
    "| ----- |:------:|:-----:|:------:|\n",
    "| 0\t    | T\t     |  12\t |  N     | \n",
    "| 1\t    | R\t     |\t13\t |\tJ     | \n",
    "| 2\t    | W\t     |\t14\t |\tZ     | \n",
    "| 3\t    | A\t     |\t15\t |\tS     | \n",
    "| 4\t    | G\t     |\t16\t |\tQ     | \n",
    "| 5\t    | M\t     |\t17\t |  V     | \n",
    "| 6\t    | Y\t     |\t18\t |\tH     | \n",
    "| 7\t    | F\t     |\t19\t |\tL     | \n",
    "| 8\t    | P\t     |\t20\t |\tC     | \n",
    "| 9\t    | D\t     |\t21\t |\tK     | \n",
    "| 10    | X\t     |\t22\t |\tE     | \n",
    "| 11    | B\t     |\t-\t |\t-     |\t\n",
    "\n",
    "\n",
    "\n",
    "\n",
    "+ Escriu una funció, ``validarNIF``, que validi si en un NIF donat la lletra es correspon realment al nombre del DNI. Has de fer servir alguna col•lecció de Python."
   ]
  },
  {
   "cell_type": "code",
   "execution_count": 37,
   "metadata": {},
   "outputs": [],
   "source": [
    "# Substitueix la comanda pass per la teva solució\n",
    "\n",
    "def validarNIF(numero):\n",
    "    num = int(numero[0:len(numero)-1])\n",
    "    letra = numero[len(numero)-1]\n",
    "    dic = {\"T\": 0,\"R\": 1,\"W\": 2,\"A\":3,\"G\": 4,\"M\": 5,\"Y\": 6,\"F\": 7,\"P\": 8,\"D\": 9,\"X\": 10,\"B\": 11,\"N\": 12,\"J\": 13,\"Z\": 14,\"S\": 15,\"Q\": 16,\"V\": 17,\"H\": 18,\"L\": 19,\"C\": 20,\"K\": 21,\"E\": 22}\n",
    "    if dic[letra] == (num % 23):\n",
    "        return True\n",
    "    else:\n",
    "        return False"
   ]
  },
  {
   "cell_type": "code",
   "execution_count": 38,
   "metadata": {},
   "outputs": [
    {
     "data": {
      "text/plain": [
       "True"
      ]
     },
     "execution_count": 38,
     "metadata": {},
     "output_type": "execute_result"
    }
   ],
   "source": [
    "# Test de la funció\n",
    "\n",
    "validarNIF(\"56789123F\")\n",
    "# aquest exemple hauria de retornar 'True'"
   ]
  },
  {
   "cell_type": "markdown",
   "metadata": {},
   "source": [
    "<p style=\"text-align:right;font-size:0.9em\">\n",
    "&copy;Jordi Vitrià i Mireia Ribera\n",
    "</p>"
   ]
  }
 ],
 "metadata": {
  "kernelspec": {
   "display_name": "Python 3",
   "language": "python",
   "name": "python3"
  },
  "language_info": {
   "codemirror_mode": {
    "name": "ipython",
    "version": 3
   },
   "file_extension": ".py",
   "mimetype": "text/x-python",
   "name": "python",
   "nbconvert_exporter": "python",
   "pygments_lexer": "ipython3",
   "version": "3.6.5"
  }
 },
 "nbformat": 4,
 "nbformat_minor": 2
}
