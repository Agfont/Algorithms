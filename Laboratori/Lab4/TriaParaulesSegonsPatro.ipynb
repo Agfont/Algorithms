{
 "cells": [
  {
   "cell_type": "markdown",
   "metadata": {},
   "source": [
    "<p style=\"text-align:right;font-size:0.9em\">\n",
    "Grau d'Enginyeria Informàtica. Algorísmica\n",
    "</p>"
   ]
  },
  {
   "cell_type": "markdown",
   "metadata": {},
   "source": [
    "<h1 style=\"padding:0.5em 0;font:Garamond;font-size:1-5em;color:#F90;background-color:#005\">\n",
    "Problema: Tria de paraules segons un patró donat\n",
    "</h1>"
   ]
  },
  {
   "cell_type": "markdown",
   "metadata": {},
   "source": [
    "<p style=\"font-family:Arial;font-size:1em\">\n",
    "Donada una llista de paraules  i un patró, trobar totes les paraules que segueixin aquell patró.\n",
    "</p>"
   ]
  },
  {
   "cell_type": "markdown",
   "metadata": {},
   "source": [
    "<div style=\"font-style:italic\">\n",
    "Per exemple:\n",
    "<ul>\n",
    "<li>Llista=[gag,sos,mim,gat,gos], Patro='rar'</li>\n",
    "<li>Solució:\n",
    "   <ul>\n",
    "   <li>[gag,sos,mim]</li>\n",
    "   <li>En el patró la primera i la darrera lletra són iguals</li>\n",
    "   </ul>\n",
    "</li>\n",
    "<li>Llista=[gag,sos,mim,gat,gos], Patro='rap'</li>\n",
    "<li>Solució:\n",
    "   <ul>\n",
    "   <li>[gat,gos]</li>\n",
    "   <li>En el patró les tres lletres són diferents</li>\n",
    "   </ul>\n",
    "</li>\n",
    "</ul>\n",
    "</div>"
   ]
  },
  {
   "cell_type": "code",
   "execution_count": 1,
   "metadata": {},
   "outputs": [],
   "source": [
    "# Inserir aquí el codi de la solució\n",
    "def tria(llista, patro):\n",
    "    l_ix_padro = []\n",
    "    l_ix_paraule = []\n",
    "    lFinal = []\n",
    "    for i in patro:\n",
    "        l_ix_padro.append(patro.index(i))\n",
    "    for paraule in llista:\n",
    "        for caracter in paraule:\n",
    "            l_ix_paraule.append(paraule.index(caracter))\n",
    "        if l_ix_paraule == l_ix_padro:\n",
    "            lFinal.append(paraule)\n",
    "        l_ix_paraule.clear()\n",
    "            \n",
    "    print(lFinal)"
   ]
  },
  {
   "cell_type": "code",
   "execution_count": 2,
   "metadata": {},
   "outputs": [
    {
     "name": "stdout",
     "output_type": "stream",
     "text": [
      "['gag', 'sos', 'mim']\n"
     ]
    }
   ],
   "source": [
    "tria([\"gag\",\"sos\",\"mim\",\"gat\",\"gos\"],\"rar\")"
   ]
  },
  {
   "cell_type": "markdown",
   "metadata": {},
   "source": [
    "<h2 style=\"padding:0.5em 0;font:Garamond;font-size:1.2em;color:#FA0;background-color:#005\">\n",
    "Pregunta 1: Quina solució hauria de donar per als següents valors:\n",
    "</h2>"
   ]
  },
  {
   "cell_type": "markdown",
   "metadata": {},
   "source": [
    "- Llista:[massa,angle,parra], Patró:tmxxm"
   ]
  },
  {
   "cell_type": "code",
   "execution_count": 5,
   "metadata": {},
   "outputs": [
    {
     "name": "stdout",
     "output_type": "stream",
     "text": [
      "['massa', 'parra']\n"
     ]
    }
   ],
   "source": [
    "# Inserir aquí les respostes\n",
    "tria([\"massa\",\"angle\",\"parra\"],\"tmxxm\")"
   ]
  },
  {
   "cell_type": "markdown",
   "metadata": {},
   "source": [
    "<h2 style=\"padding:0.5em 0;font:Garamond;font-size:1.2em;color:#FA0;background-color:#005\">\n",
    "Pregunta 2: Quina col.lecció fem servir i perquè?\n",
    "</h2>"
   ]
  },
  {
   "cell_type": "code",
   "execution_count": 8,
   "metadata": {},
   "outputs": [
    {
     "data": {
      "text/plain": [
       "'Listas, con el metodo que retorna el index de la primera aparición del caractere'"
      ]
     },
     "execution_count": 8,
     "metadata": {},
     "output_type": "execute_result"
    }
   ],
   "source": [
    "# Inserir aquí les respostes\n",
    "'''Listas, con el metodo que retorna el index de la primera aparición del caractere'''"
   ]
  },
  {
   "cell_type": "markdown",
   "metadata": {},
   "source": [
    "<h2 style=\"padding:0.5em 0;font:Garamond;font-size:1.2em;color:#FA0;background-color:#005\">\n",
    "Pregunta 3: Quina és la complexitat?\n",
    "</h2>"
   ]
  },
  {
   "cell_type": "code",
   "execution_count": 9,
   "metadata": {},
   "outputs": [
    {
     "data": {
      "text/plain": [
       "\"O(n^3) - 2 for's imbricados and methon index()\""
      ]
     },
     "execution_count": 9,
     "metadata": {},
     "output_type": "execute_result"
    }
   ],
   "source": [
    "# Inserir aquí les respostes\n",
    "\n",
    "\"\"\"O(n^3) - 2 for's imbricados and methon index()\"\"\""
   ]
  },
  {
   "cell_type": "markdown",
   "metadata": {},
   "source": [
    "<p style=\"text-align:right;font-size:0.9em\">\n",
    "&copy;Jordi Vitrià i Mireia Ribera\n",
    "</p>"
   ]
  }
 ],
 "metadata": {
  "kernelspec": {
   "display_name": "Python 3",
   "language": "python",
   "name": "python3"
  },
  "language_info": {
   "codemirror_mode": {
    "name": "ipython",
    "version": 3
   },
   "file_extension": ".py",
   "mimetype": "text/x-python",
   "name": "python",
   "nbconvert_exporter": "python",
   "pygments_lexer": "ipython3",
   "version": "3.6.5"
  }
 },
 "nbformat": 4,
 "nbformat_minor": 2
}
