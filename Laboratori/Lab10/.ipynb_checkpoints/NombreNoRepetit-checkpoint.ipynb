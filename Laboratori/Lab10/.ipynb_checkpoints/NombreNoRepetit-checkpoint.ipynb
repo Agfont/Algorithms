{
 "cells": [
  {
   "cell_type": "markdown",
   "metadata": {},
   "source": [
    "<p style=\"text-align:right;font-size:0.9em\">\n",
    "Grau d'Enginyeria Informàtica. Algorísmica\n",
    "</p>"
   ]
  },
  {
   "cell_type": "markdown",
   "metadata": {},
   "source": [
    "<h1 style=\"padding:0.5em 0;font:Garamond;font-size:1-5em;color:#F90;background-color:#005\">\n",
    "Problema: Nombre no repetit\n",
    "</h1>"
   ]
  },
  {
   "cell_type": "markdown",
   "metadata": {},
   "source": [
    "<p style=\"font-family:Arial;font-size:1em\">\n",
    "Donada una llista de nombres en la que cada nombre apareix dues vegades (una darrera l'altra) i només hi ha un element que surt una vegada, trobar aquest element amb un algorisme  de complexitat O(logn) .\n",
    "</p>"
   ]
  },
  {
   "cell_type": "code",
   "execution_count": 1,
   "metadata": {},
   "outputs": [],
   "source": [
    "def search(nums):\n",
    "    return binsearch(nums,0,len(nums)-1)\n",
    "    \n",
    "def binsearch(nums, low, high):\n",
    "    if low > high: \n",
    "        return 0    \n",
    "    if low == high: \n",
    "        return nums[low]\n",
    "\n",
    "    mid = low + (high-low)//2\n",
    "    \n",
    "    if mid % 2 == 0: \n",
    "        if nums[mid] == nums[mid+1]: \n",
    "            return binsearch(nums, mid+2, high) \n",
    "        else: \n",
    "            return binsearch(nums, low, mid)\n",
    "    else:  \n",
    "        if nums[mid] == nums[mid-1]: \n",
    "            return binsearch(nums, mid+1, high) \n",
    "        else: \n",
    "            return binsearch(nums, low, mid-1)"
   ]
  },
  {
   "cell_type": "code",
   "execution_count": 2,
   "metadata": {},
   "outputs": [
    {
     "data": {
      "text/plain": [
       "2"
      ]
     },
     "execution_count": 2,
     "metadata": {},
     "output_type": "execute_result"
    }
   ],
   "source": [
    "# Test \n",
    "llista = [1, 1, 2, 3, 3, 5, 5, 6, 6, 8, 8]\n",
    "search(llista) # hauria de retornar 2"
   ]
  },
  {
   "cell_type": "code",
   "execution_count": 4,
   "metadata": {},
   "outputs": [
    {
     "data": {
      "text/plain": [
       "' Complexitat: O(logn), cerca binaria '"
      ]
     },
     "execution_count": 4,
     "metadata": {},
     "output_type": "execute_result"
    }
   ],
   "source": [
    "''' Complexitat: O(logn), cerca binaria '''"
   ]
  },
  {
   "cell_type": "markdown",
   "metadata": {},
   "source": [
    "<p style=\"text-align:right;font-size:0.9em\">\n",
    "&copy;Jordi Vitrià i Mireia Ribera\n",
    "</p>"
   ]
  }
 ],
 "metadata": {
  "kernelspec": {
   "display_name": "Python 3",
   "language": "python",
   "name": "python3"
  },
  "language_info": {
   "codemirror_mode": {
    "name": "ipython",
    "version": 3
   },
   "file_extension": ".py",
   "mimetype": "text/x-python",
   "name": "python",
   "nbconvert_exporter": "python",
   "pygments_lexer": "ipython3",
   "version": "3.6.5"
  }
 },
 "nbformat": 4,
 "nbformat_minor": 2
}
