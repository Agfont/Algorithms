{
 "cells": [
  {
   "cell_type": "markdown",
   "metadata": {},
   "source": [
    "<p style=\"text-align:right;font-size:0.9em\">\n",
    "Grau d'Enginyeria Informàtica. Algorísmica. \n",
    "</p>"
   ]
  },
  {
   "cell_type": "markdown",
   "metadata": {},
   "source": [
    "<h1 style=\"padding:0.5em 0;font:Garamond;font-size:1-5em;color:#F90;background-color:#005\">\n",
    "Sessió de problemes Python 3: Tuples, Diccionaris, Cost i complexitat, Strings, Estil de programació\n",
    "</h1>"
   ]
  },
  {
   "cell_type": "markdown",
   "metadata": {},
   "source": [
    "***Podeu trobar més informació sobre col.leccions a:***\n",
    "- Tutorial 5. Data structures https://docs.python.org/3/tutorial/datastructures.html\n",
    "- Sequence types: list, tuple, range: https://docs.python.org/3/library/stdtypes.html?#sequence-types-list-tuple-range\n",
    "- Mapping types - dict : https://docs.python.org/3/library/stdtypes.html?#mapping-types-dict\n",
    "- Time complexity: https://wiki.python.org/moin/TimeComplexity"
   ]
  },
  {
   "cell_type": "markdown",
   "metadata": {},
   "source": [
    "Les col.leccions són estructures de dades que guarden conjunts de valors. En aquesta assignatura només es veuen les llistes, les tuples i els diccionaris."
   ]
  },
  {
   "cell_type": "code",
   "execution_count": 1,
   "metadata": {},
   "outputs": [
    {
     "name": "stdout",
     "output_type": "stream",
     "text": [
      "['gat', 8, True, 0]\n",
      "adeu\n"
     ]
    }
   ],
   "source": [
    "# Exemple\n",
    "llista = [\"gat\", 8, True, 0b000]\n",
    "print(llista)\n",
    "diccionari = {1:\"hola\", 2:\"adeu\"}\n",
    "print(diccionari[2])"
   ]
  },
  {
   "cell_type": "markdown",
   "metadata": {},
   "source": [
    "Les tuples són molt semblants a les llistes però són homogènees i immutables. Aquestes dues característiques fan que el seu processament sigui molt més eficient i en molts casos redefinirem una llista com a tupla per guanyar eficiència. \n",
    "\n",
    "Els diccionaris són parelles de clau-valor que permeten recuperar un valor a partir de la seva clau de forma molt eficient. El diccionari, a l'igual que la llista es pot recorrer seqüencialment, però no té un ordre prefixat."
   ]
  },
  {
   "cell_type": "markdown",
   "metadata": {},
   "source": [
    "<h2>Operacions amb col·leccions</h2>\n",
    "\n",
    "Cada col.lecció té una manera d'inicialitzar-la, de consultar valors, d'afegir-n'hi, d'esborrar-ne o de recorrer-la."
   ]
  },
  {
   "cell_type": "markdown",
   "metadata": {},
   "source": [
    "<h3>Col.lecció tupla</h3>"
   ]
  },
  {
   "cell_type": "code",
   "execution_count": 2,
   "metadata": {},
   "outputs": [
    {
     "name": "stdout",
     "output_type": "stream",
     "text": [
      "* Creació\n",
      "('a', 'b', 'c', 'd') ('a', 'b', 'c', 'd') ('a',)\n",
      "* Consulta\n",
      "a\n",
      "('b', 'c')\n",
      "* Conversió de llista a tupla\n",
      "[1, 2, 3]\n",
      "(1, 2, 3)\n",
      "* Conversió de tupla a llista\n",
      "(1, 2, 3)\n",
      "[1, 2, 3]\n"
     ]
    }
   ],
   "source": [
    "# Creació\n",
    "tupla1= 'a', 'b', 'c', 'd'\n",
    "tupla2= ('a', 'b', 'c', 'd')\n",
    "tupla3=('a', )\n",
    "print(\"* Creació\")\n",
    "print(tupla1,tupla2,tupla3)\n",
    "# Consulta\n",
    "print(\"* Consulta\")\n",
    "print(tupla1[0])\n",
    "print(tupla2[1:3])\n",
    "# La resta d'operacions són també similars a les llistes\n",
    "print(\"* Conversió de llista a tupla\")\n",
    "# per convertir una llista en una tupla usem \"tuple\"\n",
    "llista=[1,2,3]\n",
    "print(llista)\n",
    "t = tuple(llista)\n",
    "print(t)\n",
    "print(\"* Conversió de tupla a llista\")\n",
    "# per convertir una tupla en una llista usem \"list\"\n",
    "tupla=(1,2,3)\n",
    "print(tupla)\n",
    "l = list(tupla)\n",
    "print(l)"
   ]
  },
  {
   "cell_type": "markdown",
   "metadata": {},
   "source": [
    "## Exercici 1: \n",
    "- Fes les operacions necessàries per crear les tuples (2,4), (3,5) i després convertir-les a llistes.\n",
    "- Fes un programa que vagi demanant nombres fins a que l'usuari entri 99 i després els mostri com una tupla."
   ]
  },
  {
   "cell_type": "code",
   "execution_count": 3,
   "metadata": {},
   "outputs": [
    {
     "name": "stdout",
     "output_type": "stream",
     "text": [
      "[2, 4] [3, 5]\n"
     ]
    }
   ],
   "source": [
    "tup1 = (2,4)\n",
    "tup2 = (3,5)\n",
    "l1 = list(tup1)\n",
    "l2 = list(tup2)\n",
    "print(l1,l2)"
   ]
  },
  {
   "cell_type": "code",
   "execution_count": 4,
   "metadata": {},
   "outputs": [
    {
     "name": "stdout",
     "output_type": "stream",
     "text": [
      "Introdueix un nombre: 10\n",
      "Introdueix un nombre: 10\n",
      "Introdueix un nombre: 99\n",
      "(10, 10, 99)\n"
     ]
    }
   ],
   "source": [
    "def nombres():\n",
    "    lista = []\n",
    "    num = 0\n",
    "    while (num != 99):\n",
    "        num = int(input(\"Introdueix un nombre: \"))\n",
    "        lista.append(num)\n",
    "    tupla = tuple(lista)\n",
    "    print(tupla)\n",
    "\n",
    "nombres()"
   ]
  },
  {
   "cell_type": "markdown",
   "metadata": {},
   "source": [
    "<h3>Col.lecció diccionari</h3>"
   ]
  },
  {
   "cell_type": "code",
   "execution_count": 5,
   "metadata": {},
   "outputs": [
    {
     "name": "stdout",
     "output_type": "stream",
     "text": [
      "{}\n",
      "{'clau1': 1, 3: 4}\n"
     ]
    }
   ],
   "source": [
    "# Exemple, inicialització de la col.lecció diccionari\n",
    "dicc1={}\n",
    "dicc2={\"clau1\":1,3:4}\n",
    "\n",
    "print(dicc1)\n",
    "print(dicc2)"
   ]
  },
  {
   "cell_type": "code",
   "execution_count": 7,
   "metadata": {},
   "outputs": [
    {
     "name": "stdout",
     "output_type": "stream",
     "text": [
      "1\n",
      "3\n",
      "dict_items([('clau1', 1), ('clau2', 2), ('clau3', 3)])\n",
      "dict_keys(['clau1', 'clau2', 'clau3'])\n",
      "dict_values([1, 2, 3])\n",
      "True\n"
     ]
    }
   ],
   "source": [
    "# Exemple, consultar valors a la col.lecció diccionari\n",
    "diccionari={\"clau1\":1,\"clau2\":2,\"clau3\":3}\n",
    "print(diccionari[\"clau1\"])\n",
    "print(diccionari[\"clau3\"])\n",
    "print(diccionari.items())     # totes les parelles clau-valor\n",
    "print(diccionari.keys())      # totes les claus\n",
    "print(diccionari.values())    # tots els valors\n",
    "print(\"clau2\" in diccionari)  #verifica si clau2 és una clau"
   ]
  },
  {
   "cell_type": "code",
   "execution_count": 7,
   "metadata": {},
   "outputs": [
    {
     "name": "stdout",
     "output_type": "stream",
     "text": [
      "{'clau1': 1, 'clau2': 2, 'clau3': 3}\n"
     ]
    }
   ],
   "source": [
    "# Exemple, afegir, modificar i esborrar elements a la col.lecció diccionari\n",
    "diccionari={\"clau1\":1,\"clau2\":2,\"clau3\":3}\n",
    "print(diccionari)"
   ]
  },
  {
   "cell_type": "code",
   "execution_count": 8,
   "metadata": {},
   "outputs": [
    {
     "name": "stdout",
     "output_type": "stream",
     "text": [
      "{'clau1': 1, 'clau2': 2, 'clau3': 3, 'clau_nova': 9}\n"
     ]
    }
   ],
   "source": [
    "diccionari[\"clau_nova\"] = 9  # afegim una parella clau-valor\n",
    "print(diccionari)"
   ]
  },
  {
   "cell_type": "code",
   "execution_count": 9,
   "metadata": {},
   "outputs": [
    {
     "name": "stdout",
     "output_type": "stream",
     "text": [
      "{'clau1': 1, 'clau2': 2, 'clau_nova': 9}\n"
     ]
    }
   ],
   "source": [
    "del diccionari[\"clau3\"]  # esborrem una parella clau-valor existent\n",
    "print(diccionari)"
   ]
  },
  {
   "cell_type": "code",
   "execution_count": 10,
   "metadata": {},
   "outputs": [
    {
     "name": "stdout",
     "output_type": "stream",
     "text": [
      "{}\n"
     ]
    }
   ],
   "source": [
    "diccionari.clear()  # esborrem tots els valors\n",
    "print(diccionari)"
   ]
  },
  {
   "cell_type": "markdown",
   "metadata": {},
   "source": [
    "També podem usar list comprehensions per a diccionaris, simplement creem una llista de tuples i després la convertim. Vegeu el següent exemple:"
   ]
  },
  {
   "cell_type": "code",
   "execution_count": 1,
   "metadata": {},
   "outputs": [
    {
     "name": "stdout",
     "output_type": "stream",
     "text": [
      "{0: None, 1: None, 2: None, 3: None, 4: None, 5: None, 6: None, 7: None, 8: None, 9: None} 10\n"
     ]
    }
   ],
   "source": [
    "c=dict([(i,None) for i in range (0,10)])  \n",
    "#fem les tuples i després les convertim a diccionari\n",
    "\n",
    "print(c)"
   ]
  },
  {
   "cell_type": "markdown",
   "metadata": {},
   "source": [
    "## Exercici 2: \n",
    "- Crea un diccionari amb les equivalències dels símbols de moneda d'Estats Units, Europa i Japó i el seu nom complet. (Atenció: a Windows el símbol del Yen es pot introduir amb la combinació de tecles Alt + 0165)\n",
    "- Crea un programa que quan l'usuari entri una quantitat de diners amb un símbol la tradueixi al nom complet. Usa el diccionari creat anteriorment.\n",
    "\n",
    "Exemple:\n",
    "\n",
    "20$ = 20 USA dollars\n",
    "\n",
    "15€ = 15 Euros\n",
    "\n",
    "30¥ = 30 Yens"
   ]
  },
  {
   "cell_type": "code",
   "execution_count": 12,
   "metadata": {},
   "outputs": [
    {
     "name": "stdout",
     "output_type": "stream",
     "text": [
      "{'$': 'dollars', '€': 'euros', '¥': 'yens'}\n"
     ]
    }
   ],
   "source": [
    "dic = {\"$\": \"dollars\", \"€\": \"euros\", \"¥\": \"yens\"}\n",
    "print(dic)"
   ]
  },
  {
   "cell_type": "code",
   "execution_count": 27,
   "metadata": {},
   "outputs": [
    {
     "name": "stdout",
     "output_type": "stream",
     "text": [
      "Intrudeix diners amb simbol: 10$\n",
      "10 dollars\n"
     ]
    }
   ],
   "source": [
    "def canvi():\n",
    "    x = input(\"Intrudeix diners amb simbol: \")\n",
    "    print(x[0:-1],dic[x[-1]])\n",
    "    \n",
    "canvi()"
   ]
  },
  {
   "cell_type": "markdown",
   "metadata": {},
   "source": [
    "<h2>Complexitat de les operacions</h2>\n",
    "\n",
    "### Mesura empírica del cost computacional.\n",
    "\n",
    "`timeit` és un mòdul python que ens permet mesurar de forma aproximada el temps de procés d'unes linies de codi:\n",
    "\n",
    "```pyton\n",
    "import timeit\n",
    "\n",
    "start_time = timeit.default_timer()\n",
    "func1()\n",
    "print(timeit.default_timer() - start_time)\n",
    "\n",
    "start_time = timeit.default_timer()\n",
    "func2()\n",
    "print(timeit.default_timer() - start_time)\n",
    "``` \n",
    "\n",
    "Si treballem en un notebook de Jupyter podem fer servir la instrucció `%timeit` per calcular el temps de càlcul d'un línia de codi:\n",
    "\n",
    "```python\n",
    "def f(x):\n",
    "    return x*x\n",
    "\n",
    "%timeit for x in range(100): f(x)\n",
    "\n",
    "> 100000 loops, best of 3: 20.3 µs per loop\n",
    "```\n",
    "\n",
    "Si poseu `%%timeit` al principi d'una cel·la calculareu el temps de càlcul de tota la cel·la.\n",
    "\n",
    "```python\n",
    "%%timeit \n",
    "l = []\n",
    "for i in range(1000):\n",
    "    l.append(i**2)\n",
    "\n",
    "> 1000 loops, best of 3: 340 µs per loop\n",
    "```\n"
   ]
  },
  {
   "cell_type": "code",
   "execution_count": 14,
   "metadata": {},
   "outputs": [
    {
     "name": "stdout",
     "output_type": "stream",
     "text": [
      "El temps de proces ha estat de 0.001288021564383752 s\n"
     ]
    }
   ],
   "source": [
    "# Tambe podem usar time.clock abans i després del codi que volem mesurar. \n",
    "# Atenció però, time.clock no té un funcionament idèntic en els diferents sisemes operatius (https://docs.python.org/2/library/time.html)\n",
    "\n",
    "# Observa els dos codis següents i la diferència de temps\n",
    "import time\n",
    "\n",
    "t1 = time.clock()\n",
    "\n",
    "llista = []\n",
    "for i in range(5000000):\n",
    "    llista.append(i)\n",
    "\n",
    "t2 = time.clock()\n",
    "\n",
    "print(f\"El temps de proces ha estat de {(t2-t1)/1000} s\")"
   ]
  },
  {
   "cell_type": "code",
   "execution_count": 33,
   "metadata": {},
   "outputs": [
    {
     "name": "stdout",
     "output_type": "stream",
     "text": [
      "532 ms ± 26.2 ms per loop (mean ± std. dev. of 7 runs, 1 loop each)\n"
     ]
    }
   ],
   "source": [
    "%timeit [i for i in range(5000000)]"
   ]
  },
  {
   "cell_type": "code",
   "execution_count": 34,
   "metadata": {},
   "outputs": [],
   "source": [
    "# En fer servir una comprensió de llistes el temps d'execució es redueix a la meitat!"
   ]
  },
  {
   "cell_type": "markdown",
   "metadata": {},
   "source": [
    "## Exercici 3\n",
    "\n",
    "Fes una funció que mostri els numeros senars entre 13 i 13000. Quin temps triga? compara els teus resultats amb els dels teus companys"
   ]
  },
  {
   "cell_type": "code",
   "execution_count": 17,
   "metadata": {},
   "outputs": [
    {
     "name": "stdout",
     "output_type": "stream",
     "text": [
      "El proces tardó:  0.00010263004585153723 s\n",
      "13\n",
      "15\n",
      "17\n",
      "19\n",
      "21\n",
      "23\n",
      "25\n",
      "27\n",
      "29\n",
      "31\n",
      "33\n",
      "35\n",
      "37\n",
      "39\n",
      "41\n",
      "43\n",
      "45\n",
      "47\n",
      "49\n",
      "51\n",
      "53\n",
      "55\n",
      "57\n",
      "59\n",
      "61\n",
      "63\n",
      "65\n",
      "67\n",
      "69\n",
      "71\n",
      "73\n",
      "75\n",
      "77\n",
      "79\n",
      "81\n",
      "83\n",
      "85\n",
      "87\n",
      "89\n",
      "91\n",
      "93\n",
      "95\n",
      "97\n",
      "99\n",
      "101\n",
      "103\n",
      "105\n",
      "107\n",
      "109\n",
      "111\n",
      "113\n",
      "115\n",
      "117\n",
      "119\n",
      "121\n",
      "123\n",
      "125\n",
      "127\n",
      "129\n",
      "131\n",
      "133\n",
      "135\n",
      "137\n",
      "139\n",
      "141\n",
      "143\n",
      "145\n",
      "147\n",
      "149\n",
      "151\n",
      "153\n",
      "155\n",
      "157\n",
      "159\n",
      "161\n",
      "163\n",
      "165\n",
      "167\n",
      "169\n",
      "171\n",
      "173\n",
      "175\n",
      "177\n",
      "179\n",
      "181\n",
      "183\n",
      "185\n",
      "187\n",
      "189\n",
      "191\n",
      "193\n",
      "195\n",
      "197\n",
      "199\n",
      "201\n",
      "203\n",
      "205\n",
      "207\n",
      "209\n",
      "211\n",
      "213\n",
      "215\n",
      "217\n",
      "219\n",
      "221\n",
      "223\n",
      "225\n",
      "227\n",
      "229\n",
      "231\n",
      "233\n",
      "235\n",
      "237\n",
      "239\n",
      "241\n",
      "243\n",
      "245\n",
      "247\n",
      "249\n",
      "251\n",
      "253\n",
      "255\n",
      "257\n",
      "259\n",
      "261\n",
      "263\n",
      "265\n",
      "267\n",
      "269\n",
      "271\n",
      "273\n",
      "275\n",
      "277\n",
      "279\n",
      "281\n",
      "283\n",
      "285\n",
      "287\n",
      "289\n",
      "291\n",
      "293\n",
      "295\n",
      "297\n",
      "299\n",
      "301\n",
      "303\n",
      "305\n",
      "307\n",
      "309\n",
      "311\n",
      "313\n",
      "315\n",
      "317\n",
      "319\n",
      "321\n",
      "323\n",
      "325\n",
      "327\n",
      "329\n",
      "331\n",
      "333\n",
      "335\n",
      "337\n",
      "339\n",
      "341\n",
      "343\n",
      "345\n",
      "347\n",
      "349\n",
      "351\n",
      "353\n",
      "355\n",
      "357\n",
      "359\n",
      "361\n",
      "363\n",
      "365\n",
      "367\n",
      "369\n",
      "371\n",
      "373\n",
      "375\n",
      "377\n",
      "379\n",
      "381\n",
      "383\n",
      "385\n",
      "387\n",
      "389\n",
      "391\n",
      "393\n",
      "395\n",
      "397\n",
      "399\n",
      "401\n",
      "403\n",
      "405\n",
      "407\n",
      "409\n",
      "411\n",
      "413\n",
      "415\n",
      "417\n",
      "419\n",
      "421\n",
      "423\n",
      "425\n",
      "427\n",
      "429\n",
      "431\n",
      "433\n",
      "435\n",
      "437\n",
      "439\n",
      "441\n",
      "443\n",
      "445\n",
      "447\n",
      "449\n",
      "451\n",
      "453\n",
      "455\n",
      "457\n",
      "459\n",
      "461\n",
      "463\n",
      "465\n",
      "467\n",
      "469\n",
      "471\n",
      "473\n",
      "475\n",
      "477\n",
      "479\n",
      "481\n",
      "483\n",
      "485\n",
      "487\n",
      "489\n",
      "491\n",
      "493\n",
      "495\n",
      "497\n",
      "499\n",
      "501\n",
      "503\n",
      "505\n",
      "507\n",
      "509\n",
      "511\n",
      "513\n",
      "515\n",
      "517\n",
      "519\n",
      "521\n",
      "523\n",
      "525\n",
      "527\n",
      "529\n",
      "531\n",
      "533\n",
      "535\n",
      "537\n",
      "539\n",
      "541\n",
      "543\n",
      "545\n",
      "547\n",
      "549\n",
      "551\n",
      "553\n",
      "555\n",
      "557\n",
      "559\n",
      "561\n",
      "563\n",
      "565\n",
      "567\n",
      "569\n",
      "571\n",
      "573\n",
      "575\n",
      "577\n",
      "579\n",
      "581\n",
      "583\n",
      "585\n",
      "587\n",
      "589\n",
      "591\n",
      "593\n",
      "595\n",
      "597\n",
      "599\n",
      "601\n",
      "603\n",
      "605\n",
      "607\n",
      "609\n",
      "611\n",
      "613\n",
      "615\n",
      "617\n",
      "619\n",
      "621\n",
      "623\n",
      "625\n",
      "627\n",
      "629\n",
      "631\n",
      "633\n",
      "635\n",
      "637\n",
      "639\n",
      "641\n",
      "643\n",
      "645\n",
      "647\n",
      "649\n",
      "651\n",
      "653\n",
      "655\n",
      "657\n",
      "659\n",
      "661\n",
      "663\n",
      "665\n",
      "667\n",
      "669\n",
      "671\n",
      "673\n",
      "675\n",
      "677\n",
      "679\n",
      "681\n",
      "683\n",
      "685\n",
      "687\n",
      "689\n",
      "691\n",
      "693\n",
      "695\n",
      "697\n",
      "699\n",
      "701\n",
      "703\n",
      "705\n",
      "707\n",
      "709\n",
      "711\n",
      "713\n",
      "715\n",
      "717\n",
      "719\n",
      "721\n",
      "723\n",
      "725\n",
      "727\n",
      "729\n",
      "731\n",
      "733\n",
      "735\n",
      "737\n",
      "739\n",
      "741\n",
      "743\n",
      "745\n",
      "747\n",
      "749\n",
      "751\n",
      "753\n",
      "755\n",
      "757\n",
      "759\n",
      "761\n",
      "763\n",
      "765\n",
      "767\n",
      "769\n",
      "771\n",
      "773\n",
      "775\n",
      "777\n",
      "779\n",
      "781\n",
      "783\n",
      "785\n",
      "787\n",
      "789\n",
      "791\n",
      "793\n",
      "795\n",
      "797\n",
      "799\n",
      "801\n",
      "803\n",
      "805\n",
      "807\n",
      "809\n",
      "811\n",
      "813\n",
      "815\n",
      "817\n",
      "819\n",
      "821\n",
      "823\n",
      "825\n",
      "827\n",
      "829\n",
      "831\n",
      "833\n",
      "835\n",
      "837\n",
      "839\n",
      "841\n",
      "843\n",
      "845\n",
      "847\n",
      "849\n",
      "851\n",
      "853\n",
      "855\n",
      "857\n",
      "859\n",
      "861\n",
      "863\n",
      "865\n",
      "867\n",
      "869\n",
      "871\n",
      "873\n",
      "875\n",
      "877\n",
      "879\n",
      "881\n",
      "883\n",
      "885\n",
      "887\n",
      "889\n",
      "891\n",
      "893\n",
      "895\n",
      "897\n",
      "899\n",
      "901\n",
      "903\n",
      "905\n",
      "907\n",
      "909\n",
      "911\n",
      "913\n",
      "915\n",
      "917\n",
      "919\n",
      "921\n",
      "923\n",
      "925\n",
      "927\n",
      "929\n",
      "931\n",
      "933\n",
      "935\n",
      "937\n",
      "939\n",
      "941\n",
      "943\n",
      "945\n",
      "947\n",
      "949\n",
      "951\n",
      "953\n",
      "955\n",
      "957\n",
      "959\n",
      "961\n",
      "963\n",
      "965\n",
      "967\n",
      "969\n",
      "971\n",
      "973\n",
      "975\n",
      "977\n",
      "979\n",
      "981\n",
      "983\n",
      "985\n",
      "987\n",
      "989\n",
      "991\n",
      "993\n",
      "995\n",
      "997\n",
      "999\n",
      "1001\n",
      "1003\n",
      "1005\n",
      "1007\n",
      "1009\n",
      "1011\n",
      "1013\n",
      "1015\n",
      "1017\n",
      "1019\n",
      "1021\n",
      "1023\n",
      "1025\n",
      "1027\n",
      "1029\n",
      "1031\n",
      "1033\n",
      "1035\n",
      "1037\n",
      "1039\n",
      "1041\n",
      "1043\n",
      "1045\n",
      "1047\n",
      "1049\n",
      "1051\n",
      "1053\n",
      "1055\n",
      "1057\n",
      "1059\n",
      "1061\n",
      "1063\n",
      "1065\n",
      "1067\n",
      "1069\n",
      "1071\n",
      "1073\n",
      "1075\n",
      "1077\n",
      "1079\n",
      "1081\n",
      "1083\n",
      "1085\n",
      "1087\n",
      "1089\n",
      "1091\n",
      "1093\n",
      "1095\n",
      "1097\n",
      "1099\n",
      "1101\n",
      "1103\n",
      "1105\n",
      "1107\n",
      "1109\n",
      "1111\n",
      "1113\n",
      "1115\n",
      "1117\n",
      "1119\n",
      "1121\n",
      "1123\n",
      "1125\n",
      "1127\n",
      "1129\n",
      "1131\n",
      "1133\n",
      "1135\n",
      "1137\n",
      "1139\n",
      "1141\n",
      "1143\n",
      "1145\n",
      "1147\n",
      "1149\n",
      "1151\n",
      "1153\n",
      "1155\n",
      "1157\n",
      "1159\n",
      "1161\n",
      "1163\n",
      "1165\n",
      "1167\n",
      "1169\n",
      "1171\n",
      "1173\n",
      "1175\n",
      "1177\n",
      "1179\n",
      "1181\n",
      "1183\n",
      "1185\n",
      "1187\n",
      "1189\n",
      "1191\n",
      "1193\n",
      "1195\n",
      "1197\n",
      "1199\n",
      "1201\n",
      "1203\n",
      "1205\n",
      "1207\n",
      "1209\n",
      "1211\n",
      "1213\n",
      "1215\n",
      "1217\n",
      "1219\n",
      "1221\n",
      "1223\n",
      "1225\n",
      "1227\n",
      "1229\n",
      "1231\n",
      "1233\n",
      "1235\n",
      "1237\n",
      "1239\n",
      "1241\n",
      "1243\n",
      "1245\n",
      "1247\n",
      "1249\n",
      "1251\n",
      "1253\n",
      "1255\n",
      "1257\n",
      "1259\n",
      "1261\n",
      "1263\n",
      "1265\n",
      "1267\n",
      "1269\n",
      "1271\n",
      "1273\n",
      "1275\n",
      "1277\n",
      "1279\n",
      "1281\n",
      "1283\n",
      "1285\n",
      "1287\n",
      "1289\n",
      "1291\n",
      "1293\n",
      "1295\n",
      "1297\n",
      "1299\n"
     ]
    }
   ],
   "source": [
    "import time\n",
    "\n",
    "t1 =  time.clock()\n",
    "\n",
    "def senars():\n",
    "    for i in range(13,1300+1,2):\n",
    "        print(i)\n",
    "\n",
    "t2 = time.clock()\n",
    "\n",
    "print(\"El proces tardó: \", t2-t1,\"s\")\n",
    "\n",
    "senars()"
   ]
  },
  {
   "cell_type": "markdown",
   "metadata": {},
   "source": [
    "# Complexitat\n",
    "\n",
    "\n",
    "## Càlcul\n",
    "\n",
    "Estimem la complexitat d'un algorisme comptant el nombre de funcions elementals que fa l'algorisme. Usualment calcularem el temps del pitjor cas, i usarem la notació gran O.\n",
    "\n",
    "Anem a veure uns casos simples de càlcul de complexitats:\n",
    "\n",
    "### Complexitat d'una operació\n",
    "\n",
    "*operació simple*\n",
    "\n",
    "En general la complexitat d'aquest cas és d'ordre Constant, ja que no depèn de la mida de l'entrada. Però atenció, quan treballem amb llistes algunes operacions aparentment simples, tenen una complexitat d'ordre **n**. Recordeu que en anteriors sessions hem especificat l'ordre de complexitat de les operacions més habituals amb col.leccions. Altres complexitats les podeu consultar a <a href=\"https://wiki.python.org/moin/TimeComplexity\">TimeComplexity </a>\n",
    "\n",
    "- LLista.append('a')                    # complexitat O(1)\n",
    "- Llista.insert(2,'a')                  # complexitat O(n)\n",
    "\n",
    "### Complexitat d'un bloc condicional\n",
    "+ if condicio:\n",
    "    + operacio1\n",
    "+ else:\n",
    "    + operacio2\n",
    "\n",
    "Quan ens trobem amb un bloc condicional (if, elif, else) la complexitat serà la màxima de les complexitats de les diferents opcions. Per ex. si complexitat(operacio1)=O(n) i complexitat(operacio2)=O(1), la complexitat del bloc if serà de O(n), que és l'opció amb més complexitat.\n",
    "\n",
    "### Complexitat d'un conjunt d'instruccions\n",
    "\n",
    "    def: funcio(): \n",
    "        operacio1 \n",
    "        operacio2 \n",
    "        operacio3 \n",
    "        operacio4 \n",
    "        operacio5 \n",
    "        if condicio: \n",
    "            operacio6 \n",
    "        else: \n",
    "            operacio7 \n",
    "\n",
    "\n",
    "Quan s'agrupen diverses operacions simples la complexitat és la suma de totes elles, tenint en compte que quan treballem amb ordres de magnitud i sumem diverses quantitats, només ens quedem amb la cota superior, que és la que mana. \n",
    "\n",
    "Així si complexitat(operacio1)==complexitat(operacio2)==complexitat(operacio3) és O(1), i la complexitat(operacio4) és O(n^2), i la complexitat(operacio5) és O(log n), la complexitat de totes aquestes serà d'ordre O(n^2), que és la complexitat major. I sumant la complexitat del bloc condicional (operacio6 és O(n) i operacio7 és O(1)), seguim tenint O(n^2), ja que aquest ordre predomina sobre O(n).\n",
    "\n",
    "La complexitat final d'aquest bloc és O(n^2).\n",
    "\n",
    "### Complexitat dels blocs iteratius (bucles)\n",
    "\n",
    "    for i in range(1,n): \n",
    "        operacio1 \n",
    "    \n",
    "    for j in range(1,n): \n",
    "        operacio1\n",
    "\n",
    "En el cas dels bucles iteratius, primer cal calcular la complexitat de les operacions dins el bucle, i després multiplicar-les pel nombre de vegades que iterem.\n",
    "En els exemples, si complexitat(operacio1) és O(1), la complexitat dels blocs és O(n), ja que tots -- en el pitjor cas -- iteren n vegades sobre aquesta operació.\n",
    "\n",
    "### Complexitat dels blocs iteratius imbricats\n",
    "\n",
    "    for i in range(1,n):\n",
    "        for j in range(1,n): \n",
    "            operacio1\n",
    "\n",
    "En el cas dels bucles imbricats cal multiplicar tantes vegades com bucles hi hagi. A l'exemple, la complexitat del bloc de la j és O(n) però la complexitat del bloc de la i és O(n^2). És a dir, aquest tros de codi té una complexitat quadràtica."
   ]
  },
  {
   "cell_type": "markdown",
   "metadata": {},
   "source": [
    "## Exercici 4\n",
    "a) Quin ordre de complexitat segons la notació $O()$ tenen els algorismes que fan el següent nombre d'operacions?\n",
    "\n",
    "+ $n + 2n$\n",
    "+ $3 n^2 + log n$\n",
    "+ $2^n + n^5$\n",
    "+ 3 sumes + 2 multiplicacions (amb nombres llargs)\n",
    "\n",
    "b) Amb $n=50$ té sentit un algorisme d'$O(n!)$? Per què?"
   ]
  },
  {
   "cell_type": "code",
   "execution_count": 40,
   "metadata": {},
   "outputs": [],
   "source": [
    "\n",
    "# a)\n",
    "  # 1) O(n)\n",
    "  # 2) O(n^2)\n",
    "  # 3) O(2^n)\n",
    "  # 4) O(n^2)\n",
    "\n",
    "# b) No, porque el algorisme tendría hacer 50! passos computacionals, lo que tardaria mucho tiempo."
   ]
  },
  {
   "cell_type": "markdown",
   "metadata": {},
   "source": [
    "### Complexitat de les operacions més habituals de Python\n",
    "\n",
    "L'assignació d'un valor a una variable (que s'implementa mitjançant la còpia d'una referència) és `O(1)`. \n",
    "\n",
    "Els operadors simples (`+`, `*`, etc.) sobre enters petits (menors de 12 dígits) són `O(1)`.\n",
    "\n",
    "Els operadors sobre col·leccions de dades de longitud `N`, `N = len(data-type)` són:\n",
    "\n",
    "#### Lists:\n",
    "                               \n",
    "Operació      | Exemple      | Complexitat     | Notes\n",
    "--------------|--------------|---------------|-------------------------------\n",
    "Index         | l[i]         | O(1)\t     |\n",
    "Store         | l[i] = 0     | O(1)\t     |\n",
    "Length        | len(l)       | O(1)\t     |\n",
    "Append        | l.append(5)  | O(1)\t     |\n",
    "Pop\t          | l.pop()      | O(1)\t     | equivalent a l.pop(-1)\n",
    "Clear         | l.clear()    | O(1)\t     | equivalent a l = []\n",
    "Slice         | l[a:b]       | O(b-a)\t | O(len(l)-0)=O(N)\n",
    "check ==, !=  | l1 == l2     | O(N)      |\n",
    "Insert        | l[a:b] = ... | O(N)\t     |\n",
    "Delete        | del l[i]     | O(N)\t     | \n",
    "Containment   | x in/not in l| O(N)\t     | cerca a la llista\n",
    "Copy          | l.copy()     | O(N)\t     | equivalent a l[:] que és O(N)\n",
    "Remove        | l.remove(...)| O(N)\t     | \n",
    "Pop\t          | l.pop(i)     | O(N)\t     | \n",
    "Extreme value | min(l)/max(l)| O(N)\t     | cerca a la llista\n",
    "Reverse\t      | l.reverse()  | O(N)\t     |\n",
    "Iteration     | for v in l:  | O(N)          |\n",
    "Sort          | l.sort()     | O(N Log N)    | \n",
    "\n",
    "#### Sets (encara que no els estudiarem explícitament, afegim aquí les complexitats)\n",
    "\n",
    "Operació      | Exemple      | Complexitat     | Notes\n",
    "--------------|--------------|---------------|-------------------------------\n",
    "Length        | len(s)       | O(1)\t     |\n",
    "Add           | s.add(5)     | O(1)\t     |\n",
    "Containment   | x in/not in s| O(1)\t     | \n",
    "Remove        | s.remove(..) | O(1)\t     | \n",
    "Discard       | s.discard(..)| O(1)\t     | \n",
    "Pop           | s.pop()      | O(1)\t     |\n",
    "Clear         | s.clear()    | O(1)\t     | equivalent a s = set()\n",
    "check ==, !=  | s != t       | O(len(s))     | \n",
    "<=/<          | s <= t       | O(len(s))     | issubset\n",
    "\\>=/>         | s >= t       | O(len(t))     | issuperset \n",
    "Union         | s l t        | O(len(s)+len(t)) |\n",
    "Intersection  | s & t        | O(len(s)+len(t)) |\n",
    "Difference    | s - t        | O(len(s)+len(t)) |\n",
    "Symmetric Diff| s ^ t        | O(len(s)+len(t)) |\n",
    "Iteration     | for v in s:  | O(N)          |\n",
    "Copy          | s.copy()     | O(N)\t     |\n",
    "\n",
    "#### Dictionaries\n",
    "                             \n",
    "Operació      | Exemple      | Complexitat     | Notes\n",
    "--------------|--------------|---------------|-------------------------------\n",
    "Index         | d[k]         | O(1)      |\n",
    "Store         | d[k] = v     | O(1)      |\n",
    "Length        | len(d)       | O(1)      |\n",
    "Delete        | del d[k]     | O(1)      |\n",
    "get/setdefault| d.method     | O(1)      |\n",
    "Pop           | d.pop(k)     | O(1)      |\n",
    "Pop item      | d.popitem()  | O(1)      |\n",
    "Clear         | d.clear()    | O(1)      | equivalent a s = {} o = dict()\n",
    "View          | d.keys()     | O(1)      | el mateix que d.values()\n",
    "Iteration     | for k in d:  | O(N)      | totes les formes: keys, values, items"
   ]
  },
  {
   "cell_type": "code",
   "execution_count": 18,
   "metadata": {},
   "outputs": [
    {
     "name": "stdout",
     "output_type": "stream",
     "text": [
      "0\n",
      "1\n",
      "2\n",
      "3\n",
      "4\n"
     ]
    }
   ],
   "source": [
    "# Exemple 1 de càlcul de complexitat\n",
    "\n",
    "def funcio1(n):\n",
    "    for i in range(n): # Executem un cop aquest for\n",
    "        print(i)       # Executem n vegades aquesta instrucció\n",
    "        \n",
    "funcio1(5) #O(n)"
   ]
  },
  {
   "cell_type": "code",
   "execution_count": 19,
   "metadata": {},
   "outputs": [
    {
     "name": "stdout",
     "output_type": "stream",
     "text": [
      " (1,9)  (1,8)  (1,7)  (1,6)  (1,5)  (1,4)  (1,3)  (1,2)  (1,1) \n",
      " (3,9)  (3,8)  (3,7)  (3,6)  (3,5)  (3,4)  (3,3)  (3,2)  (3,1) \n",
      " (5,9)  (5,8)  (5,7)  (5,6)  (5,5)  (5,4)  (5,3)  (5,2)  (5,1) \n",
      " (7,9)  (7,8)  (7,7)  (7,6)  (7,5)  (7,4)  (7,3)  (7,2)  (7,1) \n",
      " (9,9)  (9,8)  (9,7)  (9,6)  (9,5)  (9,4)  (9,3)  (9,2)  (9,1) \n",
      " (11,9)  (11,8)  (11,7)  (11,6)  (11,5)  (11,4)  (11,3)  (11,2)  (11,1) \n",
      " (13,9)  (13,8)  (13,7)  (13,6)  (13,5)  (13,4)  (13,3)  (13,2)  (13,1) \n",
      " (15,9)  (15,8)  (15,7)  (15,6)  (15,5)  (15,4)  (15,3)  (15,2)  (15,1) \n"
     ]
    }
   ],
   "source": [
    "# Exemple 2 de càlcul de complexitat\n",
    "\n",
    "def funcio2(n,m):\n",
    "    for i in range(1,n*n,2): # Aquest for s'executa de 1 fins a n*n amb passos de 2 en 2\n",
    "        for j in range(m*m, 0, -1): # Aquest s'executa m*m vegades\n",
    "                                    # Com que un depèn de l'altre, per a cada valor 'i' executem m*m operacions\n",
    "                                    # i, per tant, el total serà la multiplicació dels dos valors\n",
    "                    \n",
    "            print (f\" ({i},{j})\", end=\" \")\n",
    "        print()\n",
    "        \n",
    "funcio2(4,3)  "
   ]
  },
  {
   "cell_type": "markdown",
   "metadata": {},
   "source": [
    "funcio2: $ O(\\dfrac{n^2}{2}m^2)=O(n^2m^2) $"
   ]
  },
  {
   "cell_type": "code",
   "execution_count": 20,
   "metadata": {},
   "outputs": [
    {
     "data": {
      "text/plain": [
       "[False, False, True, False, False, False, False, False, True, False, True]"
      ]
     },
     "execution_count": 20,
     "metadata": {},
     "output_type": "execute_result"
    }
   ],
   "source": [
    "# Exemple 3 de càlcul de complexitat\n",
    "\n",
    "# Aquest programa substitueix per True si hi ha coincidència amb el número donat o False en els atres casos\n",
    "\n",
    "def funcio3(llista, numero): # suposem n=len(llista)\n",
    "    \n",
    "    if numero in llista:              # n operacions\n",
    "        for it in range(len(llista)): # n operacions\n",
    "            if llista[it]==numero:    # Els accessos i assignacions són 1 sola operació\n",
    "                llista[it] = True\n",
    "            else:\n",
    "                llista[it] = False\n",
    "        return llista\n",
    "        \n",
    "    else:\n",
    "        return [False]*len(llista)    # n operacions\n",
    "\n",
    "# En aquest cas fem n+n operacions ja que, tot i estar una posició identat cap a la dreta, la comprovació\n",
    "# inicial només es fa un cop.\n",
    "\n",
    "# Tan si entra a la condició 'numero in llista' com si no hi entra, es faran n operacions més.\n",
    "    \n",
    "llista = [1,2,5,-6,3,-8,7,-9,5,8,5]\n",
    "funcio3(llista, 5)"
   ]
  },
  {
   "cell_type": "markdown",
   "metadata": {},
   "source": [
    "funcio3: $ O(n+n)=O(2n)=O(n) $"
   ]
  },
  {
   "cell_type": "code",
   "execution_count": 21,
   "metadata": {},
   "outputs": [
    {
     "name": "stdout",
     "output_type": "stream",
     "text": [
      "[0, 1, 2, 3, 4, 5, 6, 7, 8, 9, 10, 0, 0, 0, 0, 0, 0, 0, 0, 0] 100\n"
     ]
    }
   ],
   "source": [
    "# Exemple 4 de càlcul de complexitat\n",
    "\n",
    "def funcio4(num):                     # Per abreujar, n=num\n",
    "    llista = [0]*num                  # inicialitzar val n\n",
    "    suma = 0 \n",
    "    for i in range(1,len(llista)+1):  # Aquest for executarà la part interna n vegades \n",
    "        llista.insert(i,i)            # Insertar val n (veure collections.ipynb)\n",
    "        suma +=llista[i-1]+llista[i]  # 2 accessos i una suma = 3 operacions\n",
    "    \n",
    "    print(llista, suma)               # Imprimir una llista val n i imprimir un enter, 1\n",
    "        \n",
    "        \n",
    "# Notem que per a cada valor de 'i' fem un insert. Per tant es multiplicarà n*(n+3) \n",
    "# ja que n+3 és la part de dins del 'for'\n",
    "\n",
    "funcio4(10)"
   ]
  },
  {
   "cell_type": "markdown",
   "metadata": {},
   "source": [
    "funcio3: $ O\\Big(n + n(n+3)+(n+1)\\Big)=O(n+n^2 +n)=O(n^2 +2n) = O(n^2 +n) $ o també $O(n^2)$"
   ]
  },
  {
   "cell_type": "markdown",
   "metadata": {},
   "source": [
    "## Exercici 5\n",
    "Quina complexitat té aquesta funció:\n",
    "```python\n",
    "def nums1a5():\n",
    "    a = 1\n",
    "    while (a < 5):\n",
    "        print(a)\n",
    "        a += 1 \n",
    "```\n",
    "I aquesta:\n",
    "```python\n",
    "def nums1a10():\n",
    "    for i in range(0, 10): # valor inicial:0 \n",
    "                       # valor final: 10 [quan hi arriba surt, no itera]\n",
    "                       # increment: no s'indica, per defecte és 1\n",
    "    print(i)\n",
    "```    \n",
    "Tens alguna observació?"
   ]
  },
  {
   "cell_type": "markdown",
   "metadata": {},
   "source": [
    "## Exercici 6\n",
    "Quina complexitat té la funció que has creat a l'exercici 2?"
   ]
  },
  {
   "cell_type": "markdown",
   "metadata": {},
   "source": [
    "<h2>Strings (o cadenes de text)</h2>\n",
    "\n",
    "***Nota: Podeu trobar més informació sobre strings a la documentació de Python següent:***\n",
    "- An informal introduction to Python. strings: https://docs.python.org/3/tutorial/introduction.html?#strings\n",
    "- String methods: https://docs.python.org/3/library/stdtypes.html#string-methods\n",
    "- chr(i): https://docs.python.org/3/library/functions.html?#chr\n",
    "- ord(c): https://docs.python.org/3/library/functions.html?#ord"
   ]
  },
  {
   "cell_type": "markdown",
   "metadata": {},
   "source": [
    "A Python el text s'emmagatzema en strings (o cadenes de text), que són una estructura de dades molt similar a les llistes en quant a què a cada caràcter li correspon un índex, podem fer slicing... la diferència més rellevant però és que no podem fer assignacions directes a posicions de la cadena."
   ]
  },
  {
   "cell_type": "code",
   "execution_count": 22,
   "metadata": {},
   "outputs": [
    {
     "name": "stdout",
     "output_type": "stream",
     "text": [
      "E\n",
      "Ella\n",
      "Eu\n",
      "ailàluE\n"
     ]
    }
   ],
   "source": [
    "# Exemple\n",
    "nom = \"Eulàlia\"\n",
    "print(nom[0])\n",
    "for i in range(0, len(nom), 2):\n",
    "    print(f\"{nom[i]}\",end=\"\")\n",
    "print()\n",
    "print(nom[0:2])\n",
    "print(nom[::-1])"
   ]
  },
  {
   "cell_type": "code",
   "execution_count": 41,
   "metadata": {},
   "outputs": [
    {
     "ename": "TypeError",
     "evalue": "'str' object does not support item assignment",
     "output_type": "error",
     "traceback": [
      "\u001b[1;31m---------------------------------------------------------------------------\u001b[0m",
      "\u001b[1;31mTypeError\u001b[0m                                 Traceback (most recent call last)",
      "\u001b[1;32m<ipython-input-41-8bebf400c9a3>\u001b[0m in \u001b[0;36m<module>\u001b[1;34m()\u001b[0m\n\u001b[0;32m      1\u001b[0m \u001b[1;31m# però...\u001b[0m\u001b[1;33m\u001b[0m\u001b[1;33m\u001b[0m\u001b[0m\n\u001b[1;32m----> 2\u001b[1;33m \u001b[0mnom\u001b[0m\u001b[1;33m[\u001b[0m\u001b[1;36m3\u001b[0m\u001b[1;33m]\u001b[0m\u001b[1;33m=\u001b[0m\u001b[1;34m\"r\"\u001b[0m\u001b[1;33m\u001b[0m\u001b[0m\n\u001b[0m",
      "\u001b[1;31mTypeError\u001b[0m: 'str' object does not support item assignment"
     ]
    }
   ],
   "source": [
    "# però...\n",
    "nom[3]=\"r\""
   ]
  },
  {
   "cell_type": "markdown",
   "metadata": {},
   "source": [
    "## Mètodes i funcions per a les cadenes\n",
    "\n",
    "Com que les cadenes de caràcters són una de les dades bàsiques amb les que es treballa, coneixerem algunes funcions que ens resultaran molt útils per aquest curs introductori.\n",
    "\n",
    "### split \n",
    "\n",
    "Amb split puc separar una cadena en una llista amb els diferents trossets, indicant el separador."
   ]
  },
  {
   "cell_type": "code",
   "execution_count": 47,
   "metadata": {},
   "outputs": [
    {
     "name": "stdout",
     "output_type": "stream",
     "text": [
      "['456', '342', '120€']\n"
     ]
    }
   ],
   "source": [
    "# Exemple\n",
    "cadena=\"456.342.120€\"\n",
    "llista=cadena.split()\n",
    "print(llista)"
   ]
  },
  {
   "cell_type": "markdown",
   "metadata": {},
   "source": [
    "Si no indico un separador, per defecte és l'espai."
   ]
  },
  {
   "cell_type": "code",
   "execution_count": 56,
   "metadata": {},
   "outputs": [
    {
     "name": "stdout",
     "output_type": "stream",
     "text": [
      "['El', 'gos,', 'i', 'el', 'gat,', 'menjàven', 'plegats.']\n"
     ]
    }
   ],
   "source": [
    "# Exemple\n",
    "cadena=\"El gos, i el gat, menjàven plegats.\"\n",
    "llista = cadena.split()\n",
    "print(llista)"
   ]
  },
  {
   "cell_type": "markdown",
   "metadata": {},
   "source": [
    "### join \n",
    "\n",
    "Un dels usos més estesos de join consisteix en convertir llistes a cadenes de text."
   ]
  },
  {
   "cell_type": "code",
   "execution_count": 57,
   "metadata": {},
   "outputs": [
    {
     "name": "stdout",
     "output_type": "stream",
     "text": [
      "El gos, i el gat, menjàven plegats.\n"
     ]
    }
   ],
   "source": [
    "# Exemple\n",
    "llista = ['El', 'gos,', 'i', 'el', 'gat,', 'menjàven', 'plegats.']\n",
    "cadena=\" \".join(llista)  # l'espai farà de separador\n",
    "print(cadena)"
   ]
  },
  {
   "cell_type": "markdown",
   "metadata": {},
   "source": [
    "### strip\n",
    "\n",
    "Elimina els caràcters indicats de l'inici i del final de la cadena, o els espais en blanc si no s'indiquen caràcters específics."
   ]
  },
  {
   "cell_type": "code",
   "execution_count": 61,
   "metadata": {},
   "outputs": [
    {
     "data": {
      "text/plain": [
       "'troducció a Pyth'"
      ]
     },
     "execution_count": 61,
     "metadata": {},
     "output_type": "execute_result"
    }
   ],
   "source": [
    "# Exemple\n",
    "\"introducció a Python\".strip('nio')"
   ]
  },
  {
   "cell_type": "code",
   "execution_count": 59,
   "metadata": {},
   "outputs": [
    {
     "data": {
      "text/plain": [
       "'introducció'"
      ]
     },
     "execution_count": 59,
     "metadata": {},
     "output_type": "execute_result"
    }
   ],
   "source": [
    "\" introducció   \".strip()"
   ]
  },
  {
   "cell_type": "markdown",
   "metadata": {},
   "source": [
    "## Exercici 7\n",
    "A partir de la cadena \"El gos i el gat es barallen al carrer\", amb operacions sobre strings aconsegueix els següents textos:\n",
    "\n",
    "- \"el\"\n",
    "- \"rerrac\"\n",
    "- \"l gs l gt s brlln l crrr\""
   ]
  },
  {
   "cell_type": "code",
   "execution_count": 91,
   "metadata": {},
   "outputs": [
    {
     "name": "stdout",
     "output_type": "stream",
     "text": [
      "el\n",
      "rerrac\n",
      "l gs  l gt s brlln l crrr\n"
     ]
    }
   ],
   "source": [
    "cadena = \"El gos i el gat es barallen al carrer\"\n",
    "print(cadena[9:11], cadena[:len(cadena)-7:-1], sep=\"\\n\")\n",
    "cadena = list(cadena)\n",
    "n_E = cadena.count(\"E\")\n",
    "for i in range(n_E):\n",
    "    cadena.remove(\"E\")\n",
    "    \n",
    "n_a = cadena.count(\"a\")\n",
    "for i in range(n_a):\n",
    "    cadena.remove(\"a\")\n",
    "    \n",
    "n_e = cadena.count(\"e\")\n",
    "for i in range(n_e):\n",
    "    cadena.remove(\"e\")\n",
    "\n",
    "n_i = cadena.count(\"i\")\n",
    "for i in range(n_i):\n",
    "    cadena.remove(\"i\")\n",
    "    \n",
    "n_o = cadena.count(\"o\")\n",
    "for i in range(n_o):\n",
    "    cadena.remove(\"o\")\n",
    "    \n",
    "cadena = \"\".join(cadena)\n",
    "print(cadena)"
   ]
  },
  {
   "cell_type": "markdown",
   "metadata": {},
   "source": [
    "## Exercici 8\n",
    "Fes un programa que demani tres paraules d'una frase a l'usuari i crei una única cadena amb elles i la mostri a pantalla."
   ]
  },
  {
   "cell_type": "markdown",
   "metadata": {},
   "source": [
    "### islower, isupper i isalpha\n",
    "\n",
    "Verifiquen si la cadena és majúscules, minúscules o tota de lletres respectivament.\n",
    "\n",
    "### lower i upper\n",
    "\n",
    "Converteixen la cadena de majúscules a minúscules i de minúscules a majúscules respectivament."
   ]
  },
  {
   "cell_type": "code",
   "execution_count": 92,
   "metadata": {},
   "outputs": [
    {
     "name": "stdout",
     "output_type": "stream",
     "text": [
      "ENFADAT!  is upper? True\n",
      "ENFADAT!  is lower? False\n",
      "123  is alpha? False\n",
      "a10b  is alpha? False\n",
      "abc  is alpha? True\n",
      "ENFADAT! a lower: enfadat!\n",
      "adormit a uppper: ADORMIT\n"
     ]
    }
   ],
   "source": [
    "# Exemple\n",
    "cadena1 = \"ENFADAT!\"\n",
    "print(cadena1, \" is upper?\", cadena1.isupper())\n",
    "print(cadena1, \" is lower?\", cadena1.islower())\n",
    "cadena2 = \"123\"\n",
    "cadena3 = \"a10b\"\n",
    "cadena4 = \"abc\"\n",
    "print(cadena2, \" is alpha?\", cadena2.isalpha())\n",
    "print(cadena3, \" is alpha?\", cadena3.isalpha())\n",
    "print(cadena4, \" is alpha?\", cadena4.isalpha())\n",
    "print(cadena1, \"a lower:\", cadena1.lower())\n",
    "cadena5 = \"adormit\"\n",
    "print(cadena5, \"a uppper:\", cadena5.upper())"
   ]
  },
  {
   "cell_type": "markdown",
   "metadata": {},
   "source": [
    "## Exercici 9\n",
    "Crea un petit programa que saludi a l'usuari i li pregunti com estàs. Si l'usuari li respon tot en majúscules ha de dir: no em cridis!"
   ]
  },
  {
   "cell_type": "markdown",
   "metadata": {},
   "source": [
    "## Exercici 10\n",
    "Escriu un petit programa que verifiqui si un string de longitud 1 donat és una lletra (minúscula o majúscula) i no és un dígit."
   ]
  },
  {
   "cell_type": "markdown",
   "metadata": {},
   "source": [
    "## Exercici 11\n",
    "\n",
    "Volem fer un programa que, donat un string qualsevol, ens retorni les paraules en majúscules i amb el nombre de lletres, tal com s'indica a baix."
   ]
  },
  {
   "cell_type": "code",
   "execution_count": null,
   "metadata": {},
   "outputs": [],
   "source": [
    "def frase_llarga(st):\n",
    "    pass"
   ]
  },
  {
   "cell_type": "code",
   "execution_count": null,
   "metadata": {},
   "outputs": [],
   "source": [
    "frase_llarga(\"Una frase qualsevol\")\n",
    "# Això hauria d'imprimir:\n",
    "\n",
    "# UNA --> 3 lletres\n",
    "# FRASE --> 5 lletres\n",
    "# QUALSEVOL --> 9 lletres"
   ]
  },
  {
   "cell_type": "markdown",
   "metadata": {},
   "source": [
    "## Estil de programació\n",
    "\n",
    "Els programes sovint es comparteixen entre diferents programadors o es modifiquen al cap d'un temps.\n",
    "\n",
    "Per això és important que estiguin escrits de forma clara i seguint unes convencions d'estil per fer-los més llegibles.\n",
    "\n",
    "Cada llenguatge sol tenir unes directrius d'estil. A Python s'usen les directrius [PEP8](https://www.python.org/dev/peps/pep-0008/)\n",
    "\n",
    "Spyder ens ajuda a seguir aquestes directrius si configurem l'editor per a què ens avisi. Això es fa amb ``Herramientas - Preferencias - Editor - Análisis de estilo del código en el Editor``.\n",
    "\n",
    "Amb això Spyder ja ens avisarà si no seguim les convencions bàsiques de PEP8.\n",
    "\n",
    "### Comentaris\n",
    "\n",
    "Inicieu les funcions amb unes línies de comentaris delimitades per \"\"\" que indiquin l'objectiu de la funció. Incloeu una línia de comentari pels paràmetres, i una línia pel què retorna.\n",
    "\n",
    "Incloeu comentaris breus addicionals entre línies amb # per explicar algun detall del codi en particular que no quedi prou clar.\n",
    "\n",
    "```python\n",
    "# Exemple\n",
    "\n",
    "def primerDarrer8(llista):\n",
    "    \"\"\"\n",
    "    Aquesta funció, donada una llista d’enters,\n",
    "    retorna True si 8 és el primer o el darrer element de la llista,\n",
    "    retorna False altrament\n",
    "    :param llista una llista d'enters\n",
    "    :return: True si 8 és a l'inici o final, False altrament\n",
    "    \"\"\"\n",
    "    if llista[0]==8 or llista[-1]==8: # Amb -1 comencem pel darrera\n",
    "        return True\n",
    "    else:\n",
    "        return False\n",
    "```\t\t\n",
    "\n",
    "\n",
    "### Noms de funcions i de variables\n",
    "Useu noms en minúscules per les funcions i variables. Si són compostes per dues o més paraules, inicieu la segona i següents amb majúscules.\n",
    "\n",
    "```python\n",
    "a = 5\n",
    "meuCotxe = \"Toyota\"\n",
    "valorAproximat = 3.567\n",
    "def calculSuma(a,b):\n",
    "    pass\n",
    "```\n",
    "Ara bé, per a les constants useu majúscules\n",
    "```python\n",
    "MAXIM = 9999999\n",
    "```\n",
    "\n",
    "### Identació\n",
    "Useu 4 espais per marcar els diferents nivells de blocs.\n",
    "\n",
    "Si el codi d'una funció ocupa dues línies, identeu-lo per a què siguin consistents.\n",
    "```python\n",
    "def funcio():\n",
    "    print(\"les instruccions comencen 4 espais a la dreta\")\n",
    "    for i in range(2):\n",
    "        print(\"per cada nou bloc, 4 espais més\")\n",
    "\t\tprint(\"pero si vull posar moltes coses en un print\",\n",
    "              \"i no m'hi caben, idento per a què sigui\",\n",
    "              \"consistent\")\n",
    "```\n",
    "\n",
    "### Llargada de les línies\n",
    "Una línia de codi ha d'ocupar com a màxim 79 caràcters.\n",
    "Si una línia no hi cap en 79 caràcters, la puc continuar amb el caràcter \\\n",
    "\n",
    "```python\n",
    "with open('/path/to/some/file/you/want/to/read') as file_1, \\\n",
    "     open('/path/to/some/file/being/written', 'w') as file_2:\n",
    "    pass\n",
    "```\n",
    " El caràcter \\ no cal si la continuació és dintre el mateix parèntesi que la línia anterior\n",
    "\n",
    "```python\n",
    "print('a', 'b', 'c', 'd', 'e', 'f', 'g', 'h', 'i', 'j', 'k', 'l', 'm', 'n', 'o', 'p', 'q', 'r',\n",
    "      's', 't', 'u', 'v', 'x', 'y', 'z')\n",
    "```\n",
    "\n",
    "### Línies en blanc\n",
    "Les funcions han d'anar precedides i seguides de dues línies en blanc.\n",
    "\n",
    "### Espais en blanc\n",
    "Deixeu espais en blanc davant i darrera dels operadors. Deixeu un espai en blanc darrera de la coma. No poseu espais en blanc al final de les línies de codi. Acabeu sempre les funcions amb un salt de línia.\n",
    "\n",
    "```python\n",
    "a = b + c\n",
    "llista = ['a', 'b', 'c']\n",
    "```\n",
    "\n",
    "### Import\n",
    "Posar cada import en una línia diferent. Situar-los al principi de tot.\n",
    "\n",
    "```python\n",
    "import math\n",
    "import string\n",
    "\n",
    "\n",
    "def funcio():\n",
    "    pass\n",
    "```"
   ]
  },
  {
   "cell_type": "markdown",
   "metadata": {},
   "source": [
    "## Exercici 12\n",
    "Reescriu la funció de l'exercici 2 amb un bon estil de programació"
   ]
  },
  {
   "cell_type": "markdown",
   "metadata": {},
   "source": [
    "Per a **frikis**: ara que ja saps Python pots memoritzar el *mantra* de Python, executa la següent línia."
   ]
  },
  {
   "cell_type": "code",
   "execution_count": null,
   "metadata": {},
   "outputs": [],
   "source": [
    "import this"
   ]
  },
  {
   "cell_type": "markdown",
   "metadata": {},
   "source": [
    "## Referències\n",
    "Les explicacions, exemples i exercicis s'han basat en les següents fonts:\n",
    "\n",
    "- Singh et al. “Time complexity of algorithms” dins Study tonight [http://www.studytonight.com/data-structures/time-complexity-of-algorithms] consultat el 26 de novembre de 2015\n",
    "- Umesh V. Vazirani “Chapter 2: divide and conquer algorithms” [https://www.cs.berkeley.edu/~vazirani/algorithms/chap2.pdf] consultat el 26 de novembre de 2015\n",
    "- Cormen, T. C., Leiserson, C. E., Rivest, R. L., & Stein, C. (2009). *Introduction to algorithms* (3rd ed.). Cambridge: The MIT Press. ISBN 9780262033848"
   ]
  },
  {
   "cell_type": "markdown",
   "metadata": {},
   "source": [
    "<p style=\"text-align:right;font-size:0.9em\">\n",
    "&copy;Jordi Vitrià i Mireia Ribera\n",
    "</p>"
   ]
  },
  {
   "cell_type": "code",
   "execution_count": null,
   "metadata": {},
   "outputs": [],
   "source": []
  }
 ],
 "metadata": {
  "kernelspec": {
   "display_name": "Python 3",
   "language": "python",
   "name": "python3"
  },
  "language_info": {
   "codemirror_mode": {
    "name": "ipython",
    "version": 3
   },
   "file_extension": ".py",
   "mimetype": "text/x-python",
   "name": "python",
   "nbconvert_exporter": "python",
   "pygments_lexer": "ipython3",
   "version": "3.6.5"
  }
 },
 "nbformat": 4,
 "nbformat_minor": 2
}
