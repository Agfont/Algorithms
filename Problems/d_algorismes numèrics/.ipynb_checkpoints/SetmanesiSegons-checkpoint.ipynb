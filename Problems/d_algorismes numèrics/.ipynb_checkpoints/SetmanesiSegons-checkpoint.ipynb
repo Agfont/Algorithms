{
 "cells": [
  {
   "cell_type": "markdown",
   "metadata": {},
   "source": [
    "<p style=\"text-align:right;font-size:0.9em\">\n",
    "Grau d'Enginyeria Informàtica. Algorísmica\n",
    "</p>"
   ]
  },
  {
   "cell_type": "markdown",
   "metadata": {},
   "source": [
    "<h1 style=\"padding:0.5em 0;font:Garamond;font-size:1-5em;color:#F90;background-color:#005\">\n",
    "Problema: Setmanes i segons\n",
    "</h1>"
   ]
  },
  {
   "cell_type": "markdown",
   "metadata": {},
   "source": [
    "<p style=\"font-family:Arial;font-size:1em\">\n",
    "Fes una funció que trobi un nombre de setmanes $n$ que tinguin un nombre de segons $s$ tal que $s = k!$ per algun $k$\n",
    "</p>"
   ]
  },
  {
   "cell_type": "code",
   "execution_count": 2,
   "metadata": {},
   "outputs": [
    {
     "name": "stdout",
     "output_type": "stream",
     "text": [
      "24\n"
     ]
    }
   ],
   "source": [
    "import math\n",
    "print(math.factorial(4))"
   ]
  },
  {
   "cell_type": "code",
   "execution_count": 22,
   "metadata": {},
   "outputs": [
    {
     "data": {
      "text/plain": [
       "6"
      ]
     },
     "execution_count": 22,
     "metadata": {},
     "output_type": "execute_result"
    }
   ],
   "source": [
    "# Inserir aquí el codi de la solució\n",
    "def factorial():\n",
    "    llista = []\n",
    "    for i in range (1,25+1):\n",
    "        llista.append(math.factorial(i))\n",
    "    return llista\n",
    "\n",
    "def setmanes(n, llista):\n",
    "    segons = 60*60*24*7\n",
    "    if segons in llista:\n",
    "        return n\n",
    "    else:\n",
    "        return 0\n",
    "\n",
    "import math\n",
    "def setm():\n",
    "    segons = 3600*24*7\n",
    "    k = 1\n",
    "    x = 1\n",
    "    while x % segons != 0:\n",
    "        x = math.factorial(k)\n",
    "        k += 1\n",
    "    return x//segons\n",
    "\n",
    "setm()"
   ]
  },
  {
   "cell_type": "code",
   "execution_count": null,
   "metadata": {},
   "outputs": [],
   "source": []
  },
  {
   "cell_type": "markdown",
   "metadata": {},
   "source": [
    "<p style=\"text-align:right;font-size:0.9em\">\n",
    "&copy;Jordi Vitrià i Mireia Ribera\n",
    "</p>"
   ]
  }
 ],
 "metadata": {
  "kernelspec": {
   "display_name": "Python 3",
   "language": "python",
   "name": "python3"
  },
  "language_info": {
   "codemirror_mode": {
    "name": "ipython",
    "version": 3
   },
   "file_extension": ".py",
   "mimetype": "text/x-python",
   "name": "python",
   "nbconvert_exporter": "python",
   "pygments_lexer": "ipython3",
   "version": "3.6.5"
  }
 },
 "nbformat": 4,
 "nbformat_minor": 2
}
