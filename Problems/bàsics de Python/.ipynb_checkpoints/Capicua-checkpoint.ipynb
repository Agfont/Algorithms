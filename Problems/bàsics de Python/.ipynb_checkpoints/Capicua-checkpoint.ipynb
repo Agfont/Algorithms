{
 "cells": [
  {
   "cell_type": "markdown",
   "metadata": {},
   "source": [
    "<p style=\"text-align:right;font-size:0.9em\">\n",
    "Grau d'Enginyeria Informàtica. Algorísmica\n",
    "</p>"
   ]
  },
  {
   "cell_type": "markdown",
   "metadata": {},
   "source": [
    "<h1 style=\"padding:0.5em 0;font:Garamond;font-size:1-5em;color:#F90;background-color:#005\">\n",
    "Problema: Capicua\n",
    "</h1>"
   ]
  },
  {
   "cell_type": "markdown",
   "metadata": {},
   "source": [
    "<p style=\"font-family:Arial;font-size:1em\">\n",
    "Donada una paraula determinar si és capicua. Una paraula, frase o grup de paraules són capícua o formen un palíndrom si les lletres es repeteixen en el mateix ordre quan són llegides en la direcció inversa. Exemples: \"Anna\", \"Llull\".\n",
    "</p>"
   ]
  },
  {
   "cell_type": "markdown",
   "metadata": {},
   "source": [
    "<div style=\"font-style:italic\">\n",
    "Per exemple:\n",
    "<ul>\n",
    "<li>Cadena=”ANNA”</li>\n",
    "<li>Solució:\n",
    "   <ul>\n",
    "   <li>ANNA és capicua</li>\n",
    "   </ul>\n",
    "</li>\n",
    "<li>Cadena=”JOAN”</li>\n",
    "<li>Solució:\n",
    "   <ul>\n",
    "   <li>JOAN no és capicua</li>\n",
    "   </ul>\n",
    "</li>\n",
    "</ul>\n",
    "</div>\n",
    "\n",
    "*Indicació: Recordeu que fent servir \"slicing\" podeu invertir un string"
   ]
  },
  {
   "cell_type": "code",
   "execution_count": 4,
   "metadata": {},
   "outputs": [
    {
     "data": {
      "text/plain": [
       "False"
      ]
     },
     "execution_count": 4,
     "metadata": {},
     "output_type": "execute_result"
    }
   ],
   "source": [
    "def esCapicua(paraula):\n",
    "    long = len(paraula)\n",
    "    m = long//2\n",
    "    if (long % 2 == 0):\n",
    "        if paraula[:m] == paraula[:m-1:-1]:\n",
    "            return True\n",
    "        else:\n",
    "            return False\n",
    "    else:\n",
    "        if paraula[:m] == paraula[:m:-1]:\n",
    "            return True\n",
    "        else:\n",
    "            return False\n",
    "    pass\n",
    "\n",
    "#assert esCapicua(\"llull\")==True\n",
    "#assert esCapicua(\"llullu\")==False\n",
    "\n",
    "esCapicua(\"llullu\")"
   ]
  },
  {
   "cell_type": "markdown",
   "metadata": {},
   "source": [
    "### Versió 2 del problema. \n",
    "\n",
    "Donada una paraula determinar si aplicant-li rotacions de lletres és capicua.\n",
    "\n",
    "Per resoldre aquest problema podem crear les paraules rotades progressivament, i validar si són capicua amb l'algorisme anterior."
   ]
  },
  {
   "cell_type": "markdown",
   "metadata": {},
   "source": [
    "<div style=\"font-style:italic\">\n",
    "Per exemple:\n",
    "<ul>\n",
    "<li>Cadena=”BAABCC”</li>\n",
    "<li>Solució:\n",
    "   <ul>\n",
    "   <li>BAABCC és una paraula capicua rotada ja que ABCCBA és capicua.</li>\n",
    "   </ul>\n",
    "</li>\n",
    "</ul>\n",
    "</div>"
   ]
  },
  {
   "cell_type": "code",
   "execution_count": 15,
   "metadata": {},
   "outputs": [],
   "source": [
    "import itertools\n",
    "def esCapicua2(a):\n",
    "    long = len(a)\n",
    "    m = long//2\n",
    "    res = []\n",
    "    perm = list(itertools.permutations(a,long))\n",
    "    for i in perm:\n",
    "        if esCapicua(i):\n",
    "            if i not in res:\n",
    "                res.append(i)\n",
    "    if len(res) != 0:\n",
    "        print(a, \"és una paraula capicua rotada ja que\", \"\".join(res[0]),\"és capicua.\")"
   ]
  },
  {
   "cell_type": "code",
   "execution_count": 16,
   "metadata": {},
   "outputs": [
    {
     "name": "stdout",
     "output_type": "stream",
     "text": [
      "BAABCC és una paraula capicua rotada ja que BACCAB és capicua.\n"
     ]
    }
   ],
   "source": [
    "esCapicua2(\"BAABCC\")"
   ]
  },
  {
   "cell_type": "markdown",
   "metadata": {},
   "source": [
    "<h2 style=\"padding:0.5em 0;font:Garamond;font-size:1.2em;color:#FA0;background-color:#005\">\n",
    "Pregunta 1: Has fet servir for o while? Raona per què has usat un i no l’altre\n",
    "</h2>"
   ]
  },
  {
   "cell_type": "code",
   "execution_count": null,
   "metadata": {},
   "outputs": [],
   "source": [
    "# Inserir aquí les respostes"
   ]
  },
  {
   "cell_type": "markdown",
   "metadata": {},
   "source": [
    "<p style=\"text-align:right;font-size:0.9em\">\n",
    "&copy;Jordi Vitrià i Mireia Ribera\n",
    "</p>"
   ]
  }
 ],
 "metadata": {
  "kernelspec": {
   "display_name": "Python 3",
   "language": "python",
   "name": "python3"
  },
  "language_info": {
   "codemirror_mode": {
    "name": "ipython",
    "version": 3
   },
   "file_extension": ".py",
   "mimetype": "text/x-python",
   "name": "python",
   "nbconvert_exporter": "python",
   "pygments_lexer": "ipython3",
   "version": "3.6.5"
  }
 },
 "nbformat": 4,
 "nbformat_minor": 2
}
