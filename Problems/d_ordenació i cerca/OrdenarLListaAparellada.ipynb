{
 "cells": [
  {
   "cell_type": "markdown",
   "metadata": {},
   "source": [
    "<h1 style=\"padding:0.5em 0;font:Garamond;font-size:1-5em;color:#F90;background-color:#005\">\n",
    "Problema: Variants de mergesort i quicksort. Ordenar llista aparellada\n",
    "</h1>"
   ]
  },
  {
   "cell_type": "markdown",
   "metadata": {},
   "source": [
    "Ordena una llista en la que saps que els números apareixen repetits 1 cop, un al costat de l'altre. \n",
    "Ex. [1,1,4,4,3,3,5,5]\n",
    "Fes l'ordenació amb mergesort i amb quicksort"
   ]
  },
  {
   "cell_type": "code",
   "execution_count": null,
   "metadata": {},
   "outputs": [],
   "source": [
    "def mergeParelles(left, right):\n",
    "    \"\"\"\n",
    "    Aquesta funció fusiona dues llistes ordenades amb una de nova, també ordenada\n",
    "    \"\"\"\n",
    "    pass\n",
    "\n",
    "    result = []\n",
    "    i ,j = 0, 0\n",
    "    while(i < len(left)-1 and j < len(right)-1):\n",
    "        if (left[i] <= right[j]):\n",
    "            result.append(left[i])\n",
    "            result.append(left[i+1])\n",
    "            i = i + 2\n",
    "        else:\n",
    "            result.append(right[j])\n",
    "            result.append(right[j+1])\n",
    "            j = j + 2\n",
    "\n",
    "    result += left[i:]\n",
    "    result += right[j:]\n",
    "    return result"
   ]
  },
  {
   "cell_type": "code",
   "execution_count": null,
   "metadata": {},
   "outputs": [],
   "source": [
    "mergeParelles([2,2,4,4,9,9],[3,3,7,7])"
   ]
  },
  {
   "cell_type": "code",
   "execution_count": null,
   "metadata": {},
   "outputs": [],
   "source": [
    "def mergesortParelles(list):\n",
    "    \"\"\"\n",
    "    Aquesta funció va partint la llista en una banda dreta i una esquerra\n",
    "    fins que aquestes bandes tenen un element\n",
    "    quan ho aconsegueix, crida merge per fusionar ambdues bandes de \n",
    "    manera ordenada\n",
    "    fins arribar a fusionar la llista completa original.\n",
    "    \"\"\"\n",
    "    \n",
    "    if len(list) <= 2: ##\n",
    "        return list\n",
    "    else:\n",
    "        middle = ((len(list)//2) // 2) * 2\n",
    "        left = mergesort(list[:middle])\n",
    "        right = mergesort(list[middle:])\n",
    "        return mergeParelles(left, right)"
   ]
  },
  {
   "cell_type": "code",
   "execution_count": null,
   "metadata": {},
   "outputs": [],
   "source": [
    "def mergesort(list):\n",
    "    \"\"\"\n",
    "    Aquesta funció va partint la llista en una banda dreta i una esquerra\n",
    "    fins que aquestes bandes tenen un element\n",
    "    quan ho aconsegueix, crida merge per fusionar ambdues bandes de \n",
    "    manera ordenada\n",
    "    fins arribar a fusionar la llista completa original.\n",
    "    \"\"\"\n",
    "    if len(list) < 2:\n",
    "        return list\n",
    "    else:\n",
    "        middle = len(list) // 2\n",
    "        left = mergesort(list[:middle])\n",
    "        right = mergesort(list[middle:])\n",
    "        return merge(left, right)"
   ]
  },
  {
   "cell_type": "code",
   "execution_count": null,
   "metadata": {},
   "outputs": [],
   "source": [
    "def merge(left, right):\n",
    "    \"\"\"\n",
    "    Aquesta funció fusiona dues llistes ordenades amb una de nova, també ordenada\n",
    "    \"\"\"\n",
    "    result = []\n",
    "    i ,j = 0, 0\n",
    "    while(i < len(left) and j < len(right)):\n",
    "        if (left[i] <= right[j]):\n",
    "            result.append(left[i])\n",
    "            i = i + 1\n",
    "        else:\n",
    "            result.append(right[j])\n",
    "            j = j + 1\n",
    "\n",
    "    result += left[i:]\n",
    "    result += right[j:]\n",
    "    return result"
   ]
  },
  {
   "cell_type": "code",
   "execution_count": null,
   "metadata": {},
   "outputs": [],
   "source": [
    "mergesortParelles([1,1,7,7,2,2,3,3,5,5])"
   ]
  },
  {
   "cell_type": "code",
   "execution_count": null,
   "metadata": {},
   "outputs": [],
   "source": [
    "mergesortParelles([5,5,2,2])"
   ]
  },
  {
   "cell_type": "code",
   "execution_count": null,
   "metadata": {},
   "outputs": [],
   "source": [
    "# Quicksort"
   ]
  },
  {
   "cell_type": "code",
   "execution_count": null,
   "metadata": {},
   "outputs": [],
   "source": [
    "def partitionParelles(A, first, last):\n",
    "    \"\"\"\n",
    "    Aquesta funció tria el valor mig entre l'element inicial, final i mig \n",
    "    d'una llista i l'ubica al lloc que li correspondrà quan la llista està \n",
    "    ordenada, alhora deixa a la seva esquerra valors menors i a la dreta\n",
    "    valors majors. Per tant altera A\n",
    "    A més retorna la posició de la partició\n",
    "    \"\"\"\n",
    "    mid = (first + last)//2  #ordenem A[first],A[mid],A[last]\n",
    "    if A[first] > A [mid]: A[first], A[mid] = A[mid], A[first]\n",
    "    if A[first] > A [last]: A[first], A[last] = A[last], A[first]\n",
    "    if A[mid] > A[last]:   A[mid], A[last] = A[last], A[mid]  \n",
    "    A[mid], A[first] = A[first], A[mid] #valor mig a l’inici\n",
    "    pivot = first\n",
    "    i = first + 2\n",
    "    j = last\n",
    "  \n",
    "    while True:\n",
    "        while i <= last-1 and A[i] <= A[pivot]: i += 2\n",
    "        while j >= first+1 and A[j] > A[pivot]: j -= 2\n",
    "        if i >= j: break\n",
    "        else:\n",
    "            A[i], A[j-1] = A[j-1], A[i] #intercanviem, fem avançar i j\n",
    "            A[i+1], A[j] = A[j], A[i+1] #intercanviem, fem avançar i j\n",
    "            \n",
    "    A[j-1], A[pivot] = A[pivot], A[j-1] #vector partit, pivot=j\n",
    "    A[j], A[pivot+1] = A[pivot+1], A[j] #vector partit, pivot=j\n",
    "    return j"
   ]
  },
  {
   "cell_type": "code",
   "execution_count": null,
   "metadata": {},
   "outputs": [],
   "source": [
    "def partition(A, first, last):\n",
    "    \"\"\"\n",
    "    Aquesta funció tria el valor mig entre l'element inicial, final i mig \n",
    "    d'una llista i l'ubica al lloc que li correspondrà quan la llista està \n",
    "    ordenada, alhora deixa a la seva esquerra valors menors i a la dreta\n",
    "    valors majors. Per tant altera A\n",
    "    A més retorna la posició de la partició\n",
    "    \"\"\"\n",
    "    mid = (first + last)//2  #ordenem A[first],A[mid],A[last]\n",
    "    if A[first] > A [mid]: A[first], A[mid] = A[mid], A[first]\n",
    "    if A[first] > A [last]: A[first], A[last] = A[last], A[first]\n",
    "    if A[mid] > A[last]:   A[mid], A[last] = A[last], A[mid]  \n",
    "    A[mid], A[first] = A[first], A[mid] #valor mig a l’inici\n",
    "    pivot = first\n",
    "    i = first + 1\n",
    "    j = last\n",
    "  \n",
    "    while True:\n",
    "        while i <= last and A[i] <= A[pivot]: i += 1\n",
    "        while j >= first and A[j] > A[pivot]: j -= 1\n",
    "        if i >= j: break\n",
    "        else:\n",
    "            A[i], A[j] = A[j], A[i] #intercanviem, fem avançar i j\n",
    "    A[j], A[pivot] = A[pivot], A[j] #vector partit, pivot=j\n",
    "    return j"
   ]
  },
  {
   "cell_type": "code",
   "execution_count": null,
   "metadata": {},
   "outputs": [],
   "source": [
    "partitionParelles()"
   ]
  },
  {
   "cell_type": "code",
   "execution_count": null,
   "metadata": {},
   "outputs": [],
   "source": [
    "def quick_sortParelles(A):\n",
    "    quick_sort_rParelles(A, 0, len(A) - 1)\n",
    "    pass\n",
    "\n",
    "def quick_sort_rParelles(A , first, last):\n",
    "    if last > first+1:\n",
    "        pivot = partition(A, first, last)\n",
    "        quick_sort_rParelles(A, first, pivot - 1)\n",
    "        quick_sort_rParelles(A, pivot + 1, last)\n",
    "    pass"
   ]
  },
  {
   "cell_type": "code",
   "execution_count": null,
   "metadata": {},
   "outputs": [],
   "source": [
    "A=[3,3,5,5,1,1,4,4,8,8]\n",
    "quick_sortParelles(A)\n",
    "print(A)"
   ]
  },
  {
   "cell_type": "code",
   "execution_count": null,
   "metadata": {},
   "outputs": [],
   "source": [
    "A=[5,5,3,3]\n",
    "quick_sortParelles(A)\n",
    "print(A)"
   ]
  },
  {
   "cell_type": "code",
   "execution_count": null,
   "metadata": {},
   "outputs": [],
   "source": [
    "A=[5,5,3,3,0,0]\n",
    "quick_sortParelles(A)\n",
    "print(A)"
   ]
  }
 ],
 "metadata": {
  "kernelspec": {
   "display_name": "Python 3",
   "language": "python",
   "name": "python3"
  },
  "language_info": {
   "codemirror_mode": {
    "name": "ipython",
    "version": 3
   },
   "file_extension": ".py",
   "mimetype": "text/x-python",
   "name": "python",
   "nbconvert_exporter": "python",
   "pygments_lexer": "ipython3",
   "version": "3.6.5"
  }
 },
 "nbformat": 4,
 "nbformat_minor": 2
}
